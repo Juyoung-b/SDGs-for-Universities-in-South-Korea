{
  "cells": [
    {
      "cell_type": "code",
      "execution_count": null,
      "metadata": {
        "colab": {
          "base_uri": "https://localhost:8080/"
        },
        "id": "syE9iEVrKxWp",
        "outputId": "ec34ec0d-989b-4e1f-8398-9acfe4b63ae0"
      },
      "outputs": [
        {
          "output_type": "stream",
          "name": "stdout",
          "text": [
            "Mounted at /content/drive\n"
          ]
        }
      ],
      "source": [
        "#구글드라이브 연동\n",
        "from google.colab import drive\n",
        "drive.mount('/content/drive')"
      ]
    },
    {
      "cell_type": "code",
      "execution_count": null,
      "metadata": {
        "colab": {
          "base_uri": "https://localhost:8080/"
        },
        "id": "5api5fVKLvXu",
        "outputId": "22d6df8f-e2bf-466d-f408-8aeeba92e8d6"
      },
      "outputs": [
        {
          "output_type": "stream",
          "name": "stdout",
          "text": [
            "Looking in indexes: https://pypi.org/simple, https://us-python.pkg.dev/colab-wheels/public/simple/\n",
            "Collecting transformers\n",
            "  Downloading transformers-4.21.1-py3-none-any.whl (4.7 MB)\n",
            "\u001b[K     |████████████████████████████████| 4.7 MB 5.3 MB/s \n",
            "\u001b[?25hCollecting tokenizers!=0.11.3,<0.13,>=0.11.1\n",
            "  Downloading tokenizers-0.12.1-cp37-cp37m-manylinux_2_12_x86_64.manylinux2010_x86_64.whl (6.6 MB)\n",
            "\u001b[K     |████████████████████████████████| 6.6 MB 36.7 MB/s \n",
            "\u001b[?25hCollecting huggingface-hub<1.0,>=0.1.0\n",
            "  Downloading huggingface_hub-0.8.1-py3-none-any.whl (101 kB)\n",
            "\u001b[K     |████████████████████████████████| 101 kB 11.2 MB/s \n",
            "\u001b[?25hRequirement already satisfied: numpy>=1.17 in /usr/local/lib/python3.7/dist-packages (from transformers) (1.21.6)\n",
            "Requirement already satisfied: pyyaml>=5.1 in /usr/local/lib/python3.7/dist-packages (from transformers) (6.0)\n",
            "Requirement already satisfied: requests in /usr/local/lib/python3.7/dist-packages (from transformers) (2.23.0)\n",
            "Requirement already satisfied: importlib-metadata in /usr/local/lib/python3.7/dist-packages (from transformers) (4.12.0)\n",
            "Requirement already satisfied: tqdm>=4.27 in /usr/local/lib/python3.7/dist-packages (from transformers) (4.64.0)\n",
            "Requirement already satisfied: regex!=2019.12.17 in /usr/local/lib/python3.7/dist-packages (from transformers) (2022.6.2)\n",
            "Requirement already satisfied: filelock in /usr/local/lib/python3.7/dist-packages (from transformers) (3.8.0)\n",
            "Requirement already satisfied: packaging>=20.0 in /usr/local/lib/python3.7/dist-packages (from transformers) (21.3)\n",
            "Requirement already satisfied: typing-extensions>=3.7.4.3 in /usr/local/lib/python3.7/dist-packages (from huggingface-hub<1.0,>=0.1.0->transformers) (4.1.1)\n",
            "Requirement already satisfied: pyparsing!=3.0.5,>=2.0.2 in /usr/local/lib/python3.7/dist-packages (from packaging>=20.0->transformers) (3.0.9)\n",
            "Requirement already satisfied: zipp>=0.5 in /usr/local/lib/python3.7/dist-packages (from importlib-metadata->transformers) (3.8.1)\n",
            "Requirement already satisfied: idna<3,>=2.5 in /usr/local/lib/python3.7/dist-packages (from requests->transformers) (2.10)\n",
            "Requirement already satisfied: chardet<4,>=3.0.2 in /usr/local/lib/python3.7/dist-packages (from requests->transformers) (3.0.4)\n",
            "Requirement already satisfied: urllib3!=1.25.0,!=1.25.1,<1.26,>=1.21.1 in /usr/local/lib/python3.7/dist-packages (from requests->transformers) (1.24.3)\n",
            "Requirement already satisfied: certifi>=2017.4.17 in /usr/local/lib/python3.7/dist-packages (from requests->transformers) (2022.6.15)\n",
            "Installing collected packages: tokenizers, huggingface-hub, transformers\n",
            "Successfully installed huggingface-hub-0.8.1 tokenizers-0.12.1 transformers-4.21.1\n"
          ]
        }
      ],
      "source": [
        "!pip install transformers"
      ]
    },
    {
      "cell_type": "code",
      "source": [
        "from transformers import AutoTokenizer, AutoModelForSeq2SeqLM\n",
        "\n",
        "# 토크나이저 선언\n",
        "tokenizer = AutoTokenizer.from_pretrained(\"google/pegasus-xsum\")\n",
        "# 모델 선언\n",
        "model = AutoModelForSeq2SeqLM.from_pretrained(\"google/pegasus-xsum\")"
      ],
      "metadata": {
        "id": "S-Z4Mh6P7QDj"
      },
      "execution_count": null,
      "outputs": []
    },
    {
      "cell_type": "markdown",
      "metadata": {
        "id": "UT-9kUQDdJQ9"
      },
      "source": [
        "# 📌 문장 생성 요약\n",
        "해외대학데이터 영어원문 1줄 요약"
      ]
    },
    {
      "cell_type": "code",
      "execution_count": null,
      "metadata": {
        "id": "AGM2jtENdJar"
      },
      "outputs": [],
      "source": [
        "import pandas as pd"
      ]
    },
    {
      "cell_type": "code",
      "execution_count": null,
      "metadata": {
        "id": "voc0MBvTdJio"
      },
      "outputs": [],
      "source": [
        "df = pd.read_csv('/content/drive/MyDrive/raw_7275_summarization.csv')"
      ]
    },
    {
      "cell_type": "code",
      "execution_count": null,
      "metadata": {
        "colab": {
          "base_uri": "https://localhost:8080/"
        },
        "id": "QL222WmBdJlP",
        "outputId": "ddc62b6a-cd4b-4137-cc96-0c72996f5e9c"
      },
      "outputs": [
        {
          "output_type": "stream",
          "name": "stdout",
          "text": [
            "<class 'pandas.core.frame.DataFrame'>\n",
            "Int64Index: 6534 entries, 0 to 6848\n",
            "Data columns (total 6 columns):\n",
            " #   Column  Non-Null Count  Dtype \n",
            "---  ------  --------------  ----- \n",
            " 0   국가      6534 non-null   object\n",
            " 1   대학교명    6534 non-null   object\n",
            " 2   내용      6534 non-null   object\n",
            " 3   번역      6534 non-null   object\n",
            " 4   분류      6534 non-null   int64 \n",
            " 5   번역_전처리  6534 non-null   object\n",
            "dtypes: int64(1), object(5)\n",
            "memory usage: 357.3+ KB\n"
          ]
        }
      ],
      "source": [
        "df.info()"
      ]
    },
    {
      "cell_type": "code",
      "source": [
        "# 최종으로 합칠 리스트\n",
        "total = [] "
      ],
      "metadata": {
        "id": "Rup7RygxSroO"
      },
      "execution_count": null,
      "outputs": []
    },
    {
      "cell_type": "code",
      "execution_count": null,
      "metadata": {
        "id": "Mn2i9v_rdJnt"
      },
      "outputs": [],
      "source": [
        "# 200개씩 반복해서 돌리기\n",
        "summary_decode_list = []\n",
        "\n",
        "for text in df['내용'][:200]:\n",
        "  tokens = tokenizer(text, truncation=True, padding=\"longest\", return_tensors=\"pt\")\n",
        "  summary = model.generate(**tokens) # ** : container type의 데이터를 unpacking\n",
        "  summary_decode = tokenizer.decode(summary[0]) # 2개의 대괄호로 쌓여있기 때문에 중첩된 대괄호 풀기\n",
        "  summary_decode = summary_decode.replace(\"<pad> \", '') # 불필요한 요소 제거\n",
        "  summary_decode = summary_decode.replace(\"</s>\", '') # 불필요한 요소 제거\n",
        "  summary_decode_list.append(summary_decode)"
      ]
    },
    {
      "cell_type": "code",
      "execution_count": null,
      "metadata": {
        "colab": {
          "base_uri": "https://localhost:8080/"
        },
        "id": "RR3kSyB6eUEH",
        "outputId": "46b47198-043d-409e-8830-637148d9c5fa"
      },
      "outputs": [
        {
          "output_type": "execute_result",
          "data": {
            "text/plain": [
              "200"
            ]
          },
          "metadata": {},
          "execution_count": 30
        }
      ],
      "source": [
        "len(summary_decode_list)"
      ]
    },
    {
      "cell_type": "code",
      "source": [
        "summary_decode_list"
      ],
      "metadata": {
        "colab": {
          "base_uri": "https://localhost:8080/"
        },
        "id": "vnztriWmKnlX",
        "outputId": "38b651ca-5e8e-43d5-e1ce-93ba9edba25a"
      },
      "execution_count": null,
      "outputs": [
        {
          "output_type": "execute_result",
          "data": {
            "text/plain": [
              "['A researcher at the University of Auckland has been awarded a grant to study the criminal justice system in New Zealand.',\n",
              " 'All images are copyrighted.',\n",
              " 'In our series of letters from African journalists, film-maker and columnist Farai Sevenzo looks at the work of New Zealand-based human rights lawyer Peter Williams.',\n",
              " 'In our series of letters from New Zealand lawyers, University of Auckland law graduates Susan Thomas and Neil Campbell share their experiences of working in the legal system in New Zealand.',\n",
              " 'The University of Auckland joined with other members of the United Nations Academic Impact Group to support Secretary-General Ant<unk>nio Guterres’ urgent appeal for a global ceasefire.',\n",
              " 'The University of Auckland has committed to improving culturalcompetency among staff.',\n",
              " 'Aotearoa University hosted a series of discussions with the theme ‘Aotearoa Future Shapers – Post Pandemic Transformation’.',\n",
              " 'Sir Peter Gluckman’s speech to the United Nations /Distinguished Professor Sir Peter Gluckman, director of Koi T<unk>: The Centre for Informed Futures, delivered a speech on sustainability to the ScienceSummit of the UN 76th General Assembly.',\n",
              " 'Four students from the University of Auckland won medals at the Tokyo 2020 Olympic and Paralympic Games.',\n",
              " 'A new partnership between the University of Salford and the UK government aims to commercialise cutting-edge environmental technologies.',\n",
              " 'Associate Professor Siouxsie Wiles is a strong advocate for science communication, and argues that research doesn’t end with publication of the findings.',\n",
              " 'What do you think about the future of New Zealand’s natural capital?',\n",
              " 'The Immunisation Advisory Centre supporting the Covid-19 vaccination programme / The Immunisation Advisory Centre (IMAC), a business unit of the University of Auckland’s commercialisation subsidiary UniServices, is deeply involved in the rollout of the Covid-19 vaccine in New Zealand and in the Pacific islands',\n",
              " 'All images are copyrighted.',\n",
              " 'The Prime Minister’s Prize for Research Excellence is awarded each year to a scientist who has made a significant contribution to New Zealand’s national interest.',\n",
              " 'All photographs courtesy of Times Higher Education.',\n",
              " 'The University of Aberdeen has joined a global network that aims to accelerate health breakthroughs.',\n",
              " 'The University of Bristol has entered into a data partnership with the insurance sector to support economic, social, and social research.',\n",
              " 'All images are copyrighted.',\n",
              " 'The University of Auckland played a key role in New Zealand’s response to the H1N1 pandemic.',\n",
              " 'The University of Auckland is one of the largest higher education institutions in New Zealand.',\n",
              " 'Housing for Students / The University, via its hardship support, was able to repurpose accommodation on campus that was unfilled due to international students being unable to return to New Zealand.',\n",
              " 'Support for scholars’ dependants / The University, supported by the Ministry of Foreign Affairs and Trade, put aside specific funds to support scholars and their dependants affected financially by the impact of Covid-19.',\n",
              " 'Staff at the University of Auckland’s Liggins Institute came together to donate supplies and warm clothes for families in need during the Covid-19 lockdowns.',\n",
              " 'Student Engagement, Korowai Atawhaiand Pacific Success at the Faculty of Education and Social work, found a way to use data analytics to identify students who werestruggling with loss of employment and additional costs of lockdown, in order to provide them with financial support.',\n",
              " 'New Zealand has one of the highest rates of childhood poverty in the world.',\n",
              " 'Client Services / As essential workers on campus during Levels 3 and 2, ClientServices were the public face of the University’s Libraries andLearning Services, which continued to provide students with access to study spaces and allowed students and staff to borrow physical books from library collections.',\n",
              " 'The University of the West Indies (UWI) is working with a nutritionist and dietitian to provide healthier food and drink options on campus.',\n",
              " 'Researchers from the University of Auckland have used data from the Growing Up in New Zealand study to develop new guidelines on maternal and infant feeding.',\n",
              " 'Food and Drink Policy / The University is part of Healthy Policy Evaluation (Hype) – a threeyear study that will investigate and evaluate food and drink options onoffer at New Zealand’s District Health Boards (DHBs) and some central government agencies with respect to the country’s National HealthyFood and',\n",
              " 'Professor Shaun Hendy from the University of Auckland has been recognised with an honorary fellowship from the Royal Society of New Zealand.',\n",
              " 'The research team is led by Associate Professor Susanna Trnka at the University of Auckland.',\n",
              " 'A New Zealand scientist has developed a method to regrow brain cells from human skin.',\n",
              " 'Researchers at the University of Bristol have been awarded funding to investigate the effects of alcohol on older adults.',\n",
              " 'A team of researchers at the University of Auckland has developed a blood test that can detect previous exposure to the Covid-19 strain of the Severe Acute Respiratory Syndrome (SARS) virus.',\n",
              " 'A remote temperature device worn under the arm to monitor someone has a fever and then sends that data overlong distances has won funding from the New Zealand government’s Covid-19 Innovation Acceleration Fund (CIAF) to conduct clinical trials.',\n",
              " 'Staff at the University of Aberdeen were given the opportunity to take part in a fitness programme during the recent lockdown.',\n",
              " 'All photographs by Kate Riegle van West.',\n",
              " 'Researchers in New Zealand have received funding to develop a mobile solution to disinfect personal protective equipment.',\n",
              " 'The University of Auckland has been chosen to lead a global effort to improve the quality of education.',\n",
              " 'All images are copyrighted.',\n",
              " 'Carol Mutch is a professor of education at the University of Canterbury.',\n",
              " 'The University of Auckland has become the first university in New Zealand to launch a virtual campus.',\n",
              " 'The aim of the forum is to provide a forum for academics and industry to work together on research challenges in supply chain management.',\n",
              " 'The INFO 310 Business Project /Taught course at the University of Warsaw offers students the chance to work in a real business environment.',\n",
              " 'A new Sustainability Module has been launched at the University of Limerick.',\n",
              " 'All images are copyrighted.',\n",
              " 'All images are copyrighted.',\n",
              " 'The University of Auckland offers a range of undergraduate andgraduate courses that relate to the United Nations’ Sustainable Goals (SDGs) under subjects such as Geography,Environmental Science, Economics, Politics, Sociology, Education,Environment and Commercial Law.',\n",
              " 'The Centre for Arts and SocialTransformation (CAST) / established in 2019 with support of the Chartwell Trust, the Centreresearches how the arts have the potential to make a more sociallyjust and equitable world through improving quality of life.',\n",
              " 'The World Health Organization (WHO) has announced the winners of its annual Women of Influence awards.',\n",
              " 'In our series of letters from New Zealand journalists, film-maker and columnist Paul Carter meets Dawn Freshwater, the University of Auckland’s first woman Vice-Chancellor.',\n",
              " 'Ethnic women in New Zealand politics /Associate Professor Rachel Simon-Kumar (University of Auckland) and Professor Priya Kurian (University of Waikato) are undertakingresearch exploring the experiences of ethnic women politicians.',\n",
              " 'Students at the University of Auckland now have free sanitary products to use during their first year.',\n",
              " 'Having a baby increases grey matter in women’s brains, according to research from the University of Adelaide.',\n",
              " 'The lack of women in software development could be a contributing factor to the low gender diversity on software teams.',\n",
              " 'The aim of this project is to improve the capacity of policy-makers in New Zealand to address gender and other inequalities in the delivery of public services.',\n",
              " 'The University of Auckland was placed on lockdown for the second time this year due to reports of domestic violence.',\n",
              " 'During the Covid-19 lockdowns, TeTumu Herenga, Libraries and Learning Services (LLS) provided those study spaces once the country moved out of Level 4.',\n",
              " 'The University of Auckland is committed to supporting women entrepreneurs and innovators.',\n",
              " \"Researchers in New Zealand are studying the microbes that live in the underground water that feeds the country's rivers and lakes.\",\n",
              " 'The Wai Auckland project aims to make tap water the first and convenient choice by improving waterfountain infrastructure, advocating to reduce the prevalence of sugary drinks, and collaborating with community groups.',\n",
              " 'University of Auckland researcher Nadia Dikareva is studying the impact of plastic pollution on New Zealand’s waterways.',\n",
              " 'Biofouling is a major problem for New Zealand’s marine environment.',\n",
              " 'In our series of letters from African journalists, film-maker and columnist Farai Sevenzo looks at the impact of microplastics on the environment.',\n",
              " 'Researchers at the University of Auckland are developing a novel technology to harvest energy from ocean waves.',\n",
              " 'Researchers at the University of Auckland have developed a methodology to help identify the best locations to build wind power in New Zealand.',\n",
              " 'Researchers at the University of Auckland in New Zealand have developed a digital surfacemodel of the city to better understand the potential of solar power.',\n",
              " 'Alessandro Premier is a PhD student in the Department of Architecture and Urban Planning at the University of Bologna.',\n",
              " 'The University of Auckland’s Centre for Sustainable Energy (CSE) has published research on the transformation of New Zealand’s electricity sector.',\n",
              " \"In the wake of the Christchurch terror attacks, the University of Canterbury's Graduate School of Management set up a pro-bono business consultancy group, comprising Business School experts to lend a hand.\",\n",
              " 'MNC <unk> <unk> <unk> <unk> <unk> <unk> <unk> <unk> <unk> <unk> <unk> <unk> <unk> <unk> <unk> <unk> <unk> <unk> <unk> <unk> <unk> <unk> <unk> <unk> <unk> <unk> <unk> <unk> <unk> <unk>',\n",
              " \"This project is funded by the European Union's Leverhulme Research Programme.\",\n",
              " 'The Centre for Informed Futures is an independent think tank and research centre founded at the University by Sir Peter Gluckman.',\n",
              " 'The University of Auckland Business School has a responsibility to educate responsible and ethicalleaders.',\n",
              " 'An entrepreneurial university / The University of Auckland was named Entrepreneurial University of the Year at the Asia-Pacific Triple E Entrepreneurship and EngagementExcellence Awards in Higher Education.',\n",
              " 'More than a third of all jobs created in New Zealand since the 1960s have been created by graduates of the University of Auckland.',\n",
              " 'Students at a New Zealand university are planning to start their own businesses, according to a new survey.',\n",
              " 'In the wake of the Ebola outbreak in West Africa, New Zealand has been at the forefront of efforts to prevent the spread of the disease.',\n",
              " 'The Energy Centre at the University of Auckland is a centre of excellence in energy economics.',\n",
              " 'The aim of this project is to investigate the effect of noise andacoustics on speech intelligibility.',\n",
              " 'The University of Auckland is a world-leading centre of excellence for research and innovation.',\n",
              " 'Researchers at Cardiff University have developed a way to finetune medical devices without invasive surgery.',\n",
              " 'All photographs by Suranga Nanayakkara.',\n",
              " 'A New Zealand start-up has developed a range of medical devices that reduce the time it takes until patients can use their bowels again following bowel surgery, from five months to two weeks.',\n",
              " 'New Zealand has become the first country in the world to launch a satellite designed and built by university students.',\n",
              " 'Students at the University of Auckland who were locked out of their study spaces during the recent Covid lockdown have been given laptops and internet access.',\n",
              " 'A University of Auckland researcher is looking at the impact of pandemics on older people.',\n",
              " 'Dr Jacqueline Ramke’s research programme focuses on developing and testing strategies to improve access to eye care.',\n",
              " \"Public morals /Associate Professor Caroline Foster's journal article The Problem withPublic Morals covers the public morals exception in internationaleconomic law.\",\n",
              " 'The University of Aberdeen has become one of the first universities in the UK to work with Workbridge to support students with disabilities into paid work.',\n",
              " 'Socius is a virtual reality (VR) and augmented reality (AR) education platform for people with autism.',\n",
              " 'New Zealand is the first country in the world to introduce newborn screening for heart disease.',\n",
              " 'The University of Auckland has released an app to help in this acquisition of te reo M<unk>ori.',\n",
              " 'The Liggins Institute for Public Health at the University of Sydney has been working with the Cook Islands Ministry of Education and Health to improve the health of young people in the Cook Islands.',\n",
              " 'Researchers at the University of Auckland are working on a new type of concrete.',\n",
              " 'Staff at the University of Aberdeen are taking part in a global challenge to stop using plastic in July.',\n",
              " 'All images are copyrighted.',\n",
              " 'The aim of this research hub is to improve the quality of life in future cities.',\n",
              " 'Research at the University of Auckland aims to improve the resilience of New Zealand’s critical infrastructure to extreme natural hazards.',\n",
              " 'The Banksia Initiative was a collaboration between the University of Auckland and the Australian National University.',\n",
              " 'A 90-year-old bridge in Auckland has been dismantled and tested to see how it would behave in an earthquake.',\n",
              " 'Meet the team behind Tectonus, a New Zealand start-up that has developed a device that allows buildings to withstand earthquakes.',\n",
              " 'This paper presents a novel roadway system to boost the use of electric vehicles.',\n",
              " 'All images are copyrighted.',\n",
              " 'In the wake of the swine flu outbreak in Mexico and the United States, researchers at the University of Groningen in the Netherlands have been working on ways to help people affected by the virus.',\n",
              " \"Dr Saeid Baroutian's research aims to reduce the environmental impact of pharmaceutical waste.\",\n",
              " 'The University of Auckland has become the first university in New Zealand to wash its buildings with non-potable water.',\n",
              " 'New Zealand houses rated as green can still be cold and damp, according to research from the University of Auckland.',\n",
              " 'The Geothermal Institute is a hub for renewable energy research and education at the University of Auckland.',\n",
              " 'A New Zealand start-up has developed technology that uses artificial intelligence to help shoppers find the right shoes for their feet.',\n",
              " 'Dr Emma Carroll is a PhD student at the University of Auckland.',\n",
              " 'Researchers at the University of Auckland are studying the effects of clouds on the climate.',\n",
              " \"The University of Bristol is one of the UK's most energy-efficient universities.\",\n",
              " 'The University of Auckland’s Power SystemsGroup aims to help establish a life-spiral of low-carbon power systems for existing and emerging needs, such as transport and data services.',\n",
              " 'International action on climate change / Associate Professor Caroline Foster’s work on climate change and the Paris Agreement contributed towards the New Zealand chapter of a Comparative Climate Change Litigation: Beyond the Usual Suspects examining the case of Thomson versus Minister forClimate Change Issues.',\n",
              " 'Injecting sustainability into the future / New technology to make recycling plastics easier and cheaper is the first step in a plan that University of Auckland researchers have to reduce New Zealand’s rate of generating plastic waste which, percapita, is one of the highest in the world.',\n",
              " 'A PhD student at the University of Auckland has found that breaking waves are more likely to cause coastal erosion than unbroken waves.',\n",
              " 'Scientists in New Zealand are using underwater microphones to eavesdrop on marine life.',\n",
              " 'Researchers at the University of Auckland in New Zealand have come up with a list of places around the world where marine biodiversity could be protected.',\n",
              " 'Dr Emma Carroll’s lab is leading the genomic analysis of populations in a global project that will quantify the extent to which whichrepetitive human impacts may have long-term, population-level effects as reductions in genetic variability and/or changes in population structure of affected populations.',\n",
              " 'A new survey of fish in New Zealand’s Leigh Marine Reserve has revealed a decline in the number of larger fish.',\n",
              " 'A University of Aberdeen scientist has been involved in a major study on ocean warming.',\n",
              " 'In this talk, Alexander Boast shows how ancient dung can be used to study the ecology of extinct species.',\n",
              " 'Dr David Dempsey and Dr Andreas Kempa-Liehr from the University of Auckland have developed a new alert system for volcanoes in New Zealand.',\n",
              " 'The Liggins Institute offers a series of mini-moduleson bio-protection, including sustainable agriculture andenvironmental protection.',\n",
              " 'Professor Klaus Bosselmann from the University of Jena, Germany, is a leading expert on environmental law.',\n",
              " 'The University of Auckland has become the first New Zealand university to present at a United Nations hub in India.',\n",
              " 'Scientists in New Zealand and Australia have produced the first full genome of one of the world’s most invasive species.',\n",
              " 'Researchers at the University of Queensland have discovered a species of orchid that tricks wasp pollinators into mating with its flowers.',\n",
              " 'All images are copyrighted.',\n",
              " 'A New Zealand-based start-up has developed a solar-powered satellite that uses less power than existing designs.',\n",
              " 'Toi me Ngahere, Art and Forest: Kauri Dieback, Myrtle Rust and the Contemporary Arts, funded by the National Science Challenge, will investigate how contemporary arts can engage with and generate public awareness on ecological threats such as kauri dieback and myrtle rust.',\n",
              " 'A memorial to the victims of the Christchurch terror attack has been unveiled at the University of Canterbury.',\n",
              " 'Researchers at the University of Cambridge are exploring the idea that people might be willing to give up some of their personal data in exchange for money.',\n",
              " 'Shared sovereignty /Associate Professor Caroline Foster in the Faculty of Law is working on a research project that will investigate the hypothesis of building apartnership with sovereignty oriented around implementing emerging global regulatory standards.',\n",
              " 'The Equal Justice Project is a student-led pro bono charity based in the University of Auckland’s Faculty of Law.',\n",
              " 'The New Zealand Centre for Environmental Law, at the Faculty of Law, hosted an internationalsymposium on earth trusteeship in November 2020.',\n",
              " 'A mobile phone training app for healthcare workers in Uganda has won first place in an international design competition.',\n",
              " 'The University of Hawaii at M<unk>noa has signed a partnership agreement with the University of Hawaii at Hilo.',\n",
              " 'All images are copyrighted.',\n",
              " 'Research partnerships / The University’s Centre for Biodiversity and Biosecurity and the School of Biological Sciences have a strong partnership with Manaaki Whenua(Landcare Research), a Crown Research Institute that focuses on land resources.',\n",
              " \"The Research Institute for Marine Environments and Habitats is part of the University of Aberdeen's School of Marine and Atmospheric Sciences.\",\n",
              " 'Researchers at the University of Edinburgh have discovered a new clue to Parkinson’s disease.',\n",
              " 'Professor Klaus Bosselmann will give an overview of his research on the design of law and governance in the Anthropocene.',\n",
              " 'The University of Auckland was one of the first New Zealand universities to respond to the Covid-19 pandemic in China.',\n",
              " 'Students and staff from the University of Auckland were given the opportunity to influence the thinking of New Zealand business leaders on creating a sustainable andsustainable New Zealand.',\n",
              " 'New Zealand has one of the highest rates of child poverty in the world.',\n",
              " 'The University of Auckland has been appointed to a government advisory group on welfare reform.',\n",
              " 'The University of Auckland is committed to improving the lives of people in South Auckland.',\n",
              " 'The University of Aberdeen has announced that it will be awarding a record number of scholarships for the coming academic year.',\n",
              " 'The University of Auckland has a number of financial support schemes for its students.',\n",
              " 'The University of Auckland has announced a major expansion of its student accommodation.',\n",
              " 'Professor Boyd Swinburn (School of Population Health) co-chairs theLance Commission on Obesity.',\n",
              " 'Researchers at the University of Auckland have developed a food security index for children in New Zealand.',\n",
              " 'All images are copyrighted.',\n",
              " 'Researchers at the University of Auckland are developing new ways to reduce methane emissions from livestock.',\n",
              " 'The University of Aberdeen has a Budgie Meal scheme.',\n",
              " 'New Zealand has one of the highest rates of childhood obesity in the world.',\n",
              " 'Research at the University of Auckland aims to improve the health of smokers around the world.',\n",
              " 'Professor Jane Harding’s research into neonatal hypoglycaemia has led to new treatment methods for newborn babies with low glucose levels, a condition that can cause developmental, brain damage and lowered education outcomes later in life.',\n",
              " 'Scientists in New Zealand have developed a new drug to treat a neglected tropical disease.',\n",
              " 'Professor Ron Patterson from the Faculty of Law chaired the New Zealand Government Inquiry into Mental Health and Addiction.',\n",
              " 'The Addiction Research Centre at the University of Auckland is the first of its kind in New Zealand.',\n",
              " 'The University of Auckland’s research into stroke recovery has led to a device that can accelerate the hand and arm recovery of stroke survivors.',\n",
              " 'The University of Aberdeen offers a range of services to support students and staff with mental health issues.',\n",
              " 'Research into improving student outcomes for culturally and linguisticallydiverse communities by Professor Stuart McNaughton, Associate ProfessorMei Lai, Dr Rebecca Jesson and Dr Aaron Wilson (Woolf Fisher ResearchCentre) has led to the development of a whole-school intervention model.',\n",
              " 'Professor Rubie-Davies’ research has led to the development of high-expectation teaching principles which have been adopted by dozens of schools in New Zealand and in five other countries.',\n",
              " 'In our series of letters from African journalists, film-maker and columnist Farai Sevenzo looks at the impact of digital learning in primary schools in South Africa.',\n",
              " 'The University of Auckland is a world leader in research and education.',\n",
              " 'The Tu<unk>kana tutoring and mentoring programme is designed to help M<unk>oriand Pacific students fulfil their academic potential while at the University',\n",
              " 'The University of Auckland has announced plans for a new campus in South Auckland.',\n",
              " 'The University of Auckland will launch a new suite of DesignProgrammes in 2020 for students who aim to be part of positive changethrough design that puts sustainability and responsibility at its core.',\n",
              " \"The University of Auckland's Energy Centre offers a range of public lectures and a free summer school programme to students and anyone working in energy.\",\n",
              " 'The University of Cape Town is one of the most sustainable universities in South Africa.',\n",
              " 'The University of Aberdeen is committed to increasing the number of women in senior positions.',\n",
              " 'The University of Auckland is committed to increasing the number of women in science, technology, engineering and maths (STEM).',\n",
              " 'The Centre for Innovation and Entrepreneurship at the University of Glasgow has activelysought to increase participation of women through role modelling with campaigns, actively recruiting more women volunteers and speakers, and initiating social innovation programmes to appeal to women.',\n",
              " \"Professor Jennifer Curtin's research aims to ensure gender and other factors are taken into account at all stages of the policy-making process and build the capability of policy advisors and advocacy groups to embed gender analysis.\",\n",
              " 'The purpose of this project is to develop a general-purpose water accounting system for New Zealand.',\n",
              " 'Researchers at the University of Auckland are working to improve the water quality and quantity of New Zealand’s waterways.',\n",
              " 'The Centre for GreenChemical Science at Cardiff University is developing a new generation ofmembranes for water purification that will enable the simultaneous dilution of pollutants (endocrine disruptors and pesticides) and pathogens.',\n",
              " 'A team of researchers from the University of Auckland have been awarded a $300,000 grant from the New Zealand government to study the environmental health of a river in the North Island.',\n",
              " 'The University of Aberdeen is committed to reducing water use and as a result total water usage is today slightly less than at the peak in the early 1980s.',\n",
              " 'The University of Auckland is committed to reducing its water consumption by 20% by 2020.',\n",
              " \"The University of Auckland's Institute of Renewable Energy and the Environment is a centre of excellence for renewable energy research.\",\n",
              " 'Research in the Department of Chemical Sciences at the University of Auckland is focused on the development of new energy storage technologies.',\n",
              " 'The Energy Centre at the University of Auckland is an independent, not-for-profit organisation.',\n",
              " 'The Power Systems Group at the University of Glasgow is working to realise digitally-enabled, carbon-free and disaster cyber-secure electrical power systems to meet existing and emerging needs.',\n",
              " '<pad>.',\n",
              " 'The University of Auckland plays an important role in business formation and job creation in New Zealand and globally.',\n",
              " 'New Zealand is a major destination for migrants from around the world.',\n",
              " 'The United Nations Habitat III conference was held in Wellington, New Zealand, in September 2015.',\n",
              " 'University of Auckland graduates are sought after by employers, as reflected in the University’s #1 ranking in New Zealand and the top five of Oceania in the QS Graduate Employability Rankings 2020.',\n",
              " 'The School of Business and Economics at the University of Aberdeen is committed to the promotion of responsible management.',\n",
              " 'Researchers at the University of Leeds are developing new tools to assess the resilience of infrastructure networks to extreme natural hazards.',\n",
              " 'The University of Auckland’s Centre for Innovation and Entrepreneurship (CIE) offers a range of innovation, entrepreneurship and commercialisation programmes that support our students (and in some cases staff) to grow their entrepreneurial mindset and capabilities.',\n",
              " 'The University of Auckland is one of New Zealand’s leading centres of excellence for research and innovation.',\n",
              " 'The Growing Up in New Zealand study follows the lives of7,000 New Zealand children from womb to 21 years of age.',\n",
              " 'A researcher at the University of Auckland has been awarded a three-year, £1.2m grant from the British Council.']"
            ]
          },
          "metadata": {},
          "execution_count": 31
        }
      ]
    },
    {
      "cell_type": "code",
      "source": [
        "# 최종 리스트에 200개씩 추가\n",
        "total.extend(summary_decode_list)"
      ],
      "metadata": {
        "id": "WuvPY09-NtKE"
      },
      "execution_count": null,
      "outputs": []
    },
    {
      "cell_type": "code",
      "source": [
        "# 200개씩 늘어나는 거 확인\n",
        "len(total)"
      ],
      "metadata": {
        "colab": {
          "base_uri": "https://localhost:8080/"
        },
        "id": "JfvFa1JqMGrX",
        "outputId": "ab215c2d-887a-425d-dc5b-ea849750816a"
      },
      "execution_count": null,
      "outputs": [
        {
          "output_type": "execute_result",
          "data": {
            "text/plain": [
              "2000"
            ]
          },
          "metadata": {},
          "execution_count": 33
        }
      ]
    },
    {
      "cell_type": "code",
      "source": [
        "# 최종 리스트 -> 최종 데이터프레임으로 변경\n",
        "total_df = pd.DataFrame(total, columns = ['요약'])"
      ],
      "metadata": {
        "id": "BnjBtPUGMGtd"
      },
      "execution_count": null,
      "outputs": []
    },
    {
      "cell_type": "code",
      "source": [
        "total_df.info()"
      ],
      "metadata": {
        "colab": {
          "base_uri": "https://localhost:8080/"
        },
        "id": "5xW5Gr7PMGvk",
        "outputId": "90143d78-694b-4484-baa1-836aad6f197b"
      },
      "execution_count": null,
      "outputs": [
        {
          "output_type": "stream",
          "name": "stdout",
          "text": [
            "<class 'pandas.core.frame.DataFrame'>\n",
            "RangeIndex: 2000 entries, 0 to 1999\n",
            "Data columns (total 1 columns):\n",
            " #   Column  Non-Null Count  Dtype \n",
            "---  ------  --------------  ----- \n",
            " 0   요약      2000 non-null   object\n",
            "dtypes: object(1)\n",
            "memory usage: 15.8+ KB\n"
          ]
        }
      ]
    },
    {
      "cell_type": "code",
      "source": [
        "# 최종 데이터프레임 csv 파일로 저장\n",
        "total_df.to_csv('/content/drive/MyDrive/total_df.csv')"
      ],
      "metadata": {
        "id": "cRyTQY5UMG0u"
      },
      "execution_count": null,
      "outputs": []
    },
    {
      "cell_type": "markdown",
      "source": [
        "# 📌 [참고] 단계별 작동 방식 확인"
      ],
      "metadata": {
        "id": "WCBFbxR3WBgg"
      }
    },
    {
      "cell_type": "markdown",
      "source": [
        "### ✔️ Step1. 모델 불러오기"
      ],
      "metadata": {
        "id": "FXybA8SyWfPI"
      }
    },
    {
      "cell_type": "code",
      "execution_count": null,
      "metadata": {
        "colab": {
          "base_uri": "https://localhost:8080/",
          "height": 17,
          "referenced_widgets": [
            "fed82e7698bf4c97a549aafb537771e8",
            "698dbb34e5a3410884bcaed0bcb0f63e",
            "bef7ae7506f941eea5f0bb319e5f7c7a",
            "ab369dec18f848cf9b6e8cdb88f22ad1",
            "8aa51cd4acfc4a87bd46d9021e4f9611",
            "dfcc21a1bdf84bf399f390d67f7dee4e",
            "d3ed61c84aeb4a3e873b8701b3e9ecb5",
            "f904bf591e5543499a7d456aaba15608",
            "55619bc1e23f4c9b9942db96d9f81f35",
            "eee5b62991024146bc3b84a7423b6a76",
            "1ff2d725845c4ec1926589b99d83ee6d",
            "33bf124249484e4eb835ec4a623f0dd0",
            "6a1ac062a33f4356a5d5007b195275af",
            "4c410ce27cbd4c85aea488c5193a258e",
            "1a72ff32a2554a1bbf5fc5d9812fb900",
            "1949705b3fca4d36a879235310688ffe",
            "9ea303ae7edb4c0d9d2b7933004c7565",
            "cbe63ff60d714ed9bc1826ccc56d8196",
            "a708aa2b55d14e388089578a59383fe7",
            "2b6fbcf44fa843a194ba5bc45b40af43",
            "fd8fac3e4ae54fb3a1d88f525a0d28d9",
            "b7f8ee7e967a441f82eab1c04695eceb",
            "7b4108fb17ef4ba7b05328fc09f6d9df",
            "7a7b26b3936044999291fc1c0b92f615",
            "6bfe474632de47fdb4ac5f4f463ccf5e",
            "d6453f56020a4f558fa999ec2dd0e73f",
            "1ee11a8acfd54e29895fa43da884a9c3",
            "538b4a645dec4896843fd0b31a2ef950",
            "f5a010c52cff4bb3af8d99be93998ca8",
            "094f67f1fd0b4199bddd0bcd41b9dec7",
            "4d81280a718248259473c2679de542fd",
            "acb1b0dcec2c4a678dba37b15d0d0dea",
            "e93f49fc2a194de88e48fe14e8e120e4",
            "39ce7c1645c84172ac7b7fcea8d26331",
            "0c07ea08ab4940ff8514abe9e31c7e36",
            "bd3bded61e054e91a0c442f94d63f6ba",
            "6aaac6da73e44fdb9f2b9e3bb568fc3a",
            "662b9e49afa443f78a47fc3b1202727e",
            "3958f0a8b5474995b1afd2218476a6a9",
            "4c83bf60abc246e1b2bc85a1f9dcd43e",
            "52279e450b244ed186e631857637f25b",
            "8409d1e69a0f4007907112e74fe89050",
            "5f9724df2f594e8291e52f3dc55c3c0f",
            "b1487db4083e4176b7b4b8493d62ce07",
            "7b465b183c43423ebc3ae1677275bbb9",
            "a1c97c19aabb4f22b13c0473a932f987",
            "9ebd194dc2734370959c25f65354ef7f",
            "4d656e6fe7b34ae79b0d242f14d805de",
            "42a59b71cf164359b3b9fe1d06f8ab30",
            "232de1d4d2204487b7c259fc08af9408",
            "a3cc39c5c6384761afc2a261612ac231",
            "091b01f8a35146fd830b0569a873d466",
            "c44f2b6e116f4dc682356b58ae5697a3",
            "cc7269b28f1844389e248d5aeaf78e89",
            "e708f0775dd74321aaef2d98ba5f0afa",
            "d34373ea801042be9f0088128e126c95",
            "c2642a0f220b49dcb0e252d9c5e20b3e",
            "6594195c77594c4fbcaa3eea0324a00f",
            "56bce758bb1d4ce8a393355e4e19dcd6",
            "acff166f0e8345c98ea707b896d40245",
            "85cacb41a5214e43b9049d9b550bc84f",
            "4668ac5d860645099ecf537ab45a95db",
            "00e868388c2c43dcae43df786a2fd769",
            "d936a6490c914359bf86a2767a2dc6bd",
            "5a4dc41bf2e44cb2bc2916867b8811fe",
            "4760115946f7460e9efb65f8b8acb582"
          ]
        },
        "id": "yZMCuvkOMEGq",
        "outputId": "61a3fc76-2db4-4e76-a097-cb0c0fe1a7a7"
      },
      "outputs": [
        {
          "output_type": "display_data",
          "data": {
            "text/plain": [
              "Downloading tokenizer_config.json:   0%|          | 0.00/87.0 [00:00<?, ?B/s]"
            ],
            "application/vnd.jupyter.widget-view+json": {
              "version_major": 2,
              "version_minor": 0,
              "model_id": "fed82e7698bf4c97a549aafb537771e8"
            },
            "application/json": {
              "n": 0,
              "total": 87,
              "elapsed": 0.02620077133178711,
              "ncols": null,
              "nrows": null,
              "prefix": "Downloading tokenizer_config.json",
              "ascii": false,
              "unit": "B",
              "unit_scale": true,
              "rate": null,
              "bar_format": null,
              "postfix": null,
              "unit_divisor": 1024,
              "initial": 0,
              "colour": null
            }
          },
          "metadata": {}
        },
        {
          "output_type": "display_data",
          "data": {
            "text/plain": [
              "Downloading config.json:   0%|          | 0.00/1.36k [00:00<?, ?B/s]"
            ],
            "application/vnd.jupyter.widget-view+json": {
              "version_major": 2,
              "version_minor": 0,
              "model_id": "33bf124249484e4eb835ec4a623f0dd0"
            },
            "application/json": {
              "n": 0,
              "total": 1392,
              "elapsed": 0.06766700744628906,
              "ncols": null,
              "nrows": null,
              "prefix": "Downloading config.json",
              "ascii": false,
              "unit": "B",
              "unit_scale": true,
              "rate": null,
              "bar_format": null,
              "postfix": null,
              "unit_divisor": 1024,
              "initial": 0,
              "colour": null
            }
          },
          "metadata": {}
        },
        {
          "output_type": "display_data",
          "data": {
            "text/plain": [
              "Downloading spiece.model:   0%|          | 0.00/1.82M [00:00<?, ?B/s]"
            ],
            "application/vnd.jupyter.widget-view+json": {
              "version_major": 2,
              "version_minor": 0,
              "model_id": "7b4108fb17ef4ba7b05328fc09f6d9df"
            },
            "application/json": {
              "n": 0,
              "total": 1912529,
              "elapsed": 0.03148603439331055,
              "ncols": null,
              "nrows": null,
              "prefix": "Downloading spiece.model",
              "ascii": false,
              "unit": "B",
              "unit_scale": true,
              "rate": null,
              "bar_format": null,
              "postfix": null,
              "unit_divisor": 1024,
              "initial": 0,
              "colour": null
            }
          },
          "metadata": {}
        },
        {
          "output_type": "display_data",
          "data": {
            "text/plain": [
              "Downloading tokenizer.json:   0%|          | 0.00/3.36M [00:00<?, ?B/s]"
            ],
            "application/vnd.jupyter.widget-view+json": {
              "version_major": 2,
              "version_minor": 0,
              "model_id": "39ce7c1645c84172ac7b7fcea8d26331"
            },
            "application/json": {
              "n": 0,
              "total": 3520083,
              "elapsed": 0.03411507606506348,
              "ncols": null,
              "nrows": null,
              "prefix": "Downloading tokenizer.json",
              "ascii": false,
              "unit": "B",
              "unit_scale": true,
              "rate": null,
              "bar_format": null,
              "postfix": null,
              "unit_divisor": 1024,
              "initial": 0,
              "colour": null
            }
          },
          "metadata": {}
        },
        {
          "output_type": "display_data",
          "data": {
            "text/plain": [
              "Downloading special_tokens_map.json:   0%|          | 0.00/65.0 [00:00<?, ?B/s]"
            ],
            "application/vnd.jupyter.widget-view+json": {
              "version_major": 2,
              "version_minor": 0,
              "model_id": "7b465b183c43423ebc3ae1677275bbb9"
            },
            "application/json": {
              "n": 0,
              "total": 65,
              "elapsed": 0.055707693099975586,
              "ncols": null,
              "nrows": null,
              "prefix": "Downloading special_tokens_map.json",
              "ascii": false,
              "unit": "B",
              "unit_scale": true,
              "rate": null,
              "bar_format": null,
              "postfix": null,
              "unit_divisor": 1024,
              "initial": 0,
              "colour": null
            }
          },
          "metadata": {}
        },
        {
          "output_type": "display_data",
          "data": {
            "text/plain": [
              "Downloading pytorch_model.bin:   0%|          | 0.00/2.12G [00:00<?, ?B/s]"
            ],
            "application/vnd.jupyter.widget-view+json": {
              "version_major": 2,
              "version_minor": 0,
              "model_id": "d34373ea801042be9f0088128e126c95"
            },
            "application/json": {
              "n": 0,
              "total": 2275329241,
              "elapsed": 0.024395227432250977,
              "ncols": null,
              "nrows": null,
              "prefix": "Downloading pytorch_model.bin",
              "ascii": false,
              "unit": "B",
              "unit_scale": true,
              "rate": null,
              "bar_format": null,
              "postfix": null,
              "unit_divisor": 1024,
              "initial": 0,
              "colour": null
            }
          },
          "metadata": {}
        }
      ],
      "source": [
        "from transformers import AutoTokenizer, AutoModelForSeq2SeqLM\n",
        "\n",
        "# 토크나이저 선언\n",
        "tokenizer = AutoTokenizer.from_pretrained(\"google/pegasus-xsum\")\n",
        "# 모델 선언\n",
        "model = AutoModelForSeq2SeqLM.from_pretrained(\"google/pegasus-xsum\")"
      ]
    },
    {
      "cell_type": "markdown",
      "source": [
        "### ✔️ Step2. 추상적 요약 생성"
      ],
      "metadata": {
        "id": "7pOYattUW9X_"
      }
    },
    {
      "cell_type": "code",
      "execution_count": null,
      "metadata": {
        "id": "wLTRoR9CM24L"
      },
      "outputs": [],
      "source": [
        "text = \"\"\"\n",
        "\"It is very interesting to observe the performance of ASU has made a huge leap in SDG #4. ASU has implemented a research-intensive plan in areas related to SDG. The research component in this SDG has increased from 0 to 47.1%. On the other hand, through the partnership with the local community, ASU continued to organize and host annual educational activities that target many students from neighboring schools and community.\n",
        "ASU has been working effectively to offer educational programs that has contributed in preparing the future generation of educators.\n",
        "The university has also implemented schemes such as discounted study fees to first generation students, this resulted in increasing their proportion.\"\n",
        "\"\"\""
      ]
    },
    {
      "cell_type": "code",
      "execution_count": null,
      "metadata": {
        "id": "Y9KaJ65XN8CP"
      },
      "outputs": [],
      "source": [
        "# 토큰 생성\n",
        "tokens = tokenizer(text, truncation=True, padding=\"longest\", return_tensors=\"pt\")"
      ]
    },
    {
      "cell_type": "code",
      "execution_count": null,
      "metadata": {
        "colab": {
          "base_uri": "https://localhost:8080/"
        },
        "id": "_2aL7pM8OO3A",
        "outputId": "dfdb3500-1ec9-4e43-d4f9-b52a66d1fe05"
      },
      "outputs": [
        {
          "data": {
            "text/plain": [
              "{'input_ids': tensor([[  198,   362,   117,   221,  1154,   112,  6607,   109,   637,   113,\n",
              "         38469,   148,   266,   114,  1124, 11408,   115, 50730, 16752,   107,\n",
              "         38469,   148,  4440,   114,   473,   121, 25669,   511,   115,   633,\n",
              "           985,   112, 50730,   107,   139,   473,  3453,   115,   136, 50730,\n",
              "           148,  1562,   135,  1780,   112,   384, 83414,   107,   651,   109,\n",
              "           176,   561,   108,   224,   109,  2878,   122,   109,   391,   427,\n",
              "           108, 38469,  2059,   112,  5763,   111,  1713,  1450,  2387,   817,\n",
              "           120,  1762,   223,   392,   135, 12863,  1370,   111,   427,   107,\n",
              "         38469,   148,   174,   375,  2448,   112,   369,  2387,   962,   120,\n",
              "           148,  5674,   115,  3946,   109,   533,  2233,   113,  8429,   107,\n",
              "           139,  2631,   148,   163,  4440,  7618,   253,   130,  9002,   692,\n",
              "          2083,   112,   211,  2233,   392,   108,   136,  5455,   115,  2186,\n",
              "           153,  9282,   496,   110,     1]]), 'attention_mask': tensor([[1, 1, 1, 1, 1, 1, 1, 1, 1, 1, 1, 1, 1, 1, 1, 1, 1, 1, 1, 1, 1, 1, 1, 1,\n",
              "         1, 1, 1, 1, 1, 1, 1, 1, 1, 1, 1, 1, 1, 1, 1, 1, 1, 1, 1, 1, 1, 1, 1, 1,\n",
              "         1, 1, 1, 1, 1, 1, 1, 1, 1, 1, 1, 1, 1, 1, 1, 1, 1, 1, 1, 1, 1, 1, 1, 1,\n",
              "         1, 1, 1, 1, 1, 1, 1, 1, 1, 1, 1, 1, 1, 1, 1, 1, 1, 1, 1, 1, 1, 1, 1, 1,\n",
              "         1, 1, 1, 1, 1, 1, 1, 1, 1, 1, 1, 1, 1, 1, 1, 1, 1, 1, 1, 1, 1, 1, 1, 1,\n",
              "         1, 1, 1, 1, 1]])}"
            ]
          },
          "execution_count": 8,
          "metadata": {},
          "output_type": "execute_result"
        }
      ],
      "source": [
        "# 토큰 확인\n",
        "tokens"
      ]
    },
    {
      "cell_type": "code",
      "execution_count": null,
      "metadata": {
        "colab": {
          "base_uri": "https://localhost:8080/"
        },
        "id": "mDxD687BOPqs",
        "outputId": "a6fa5383-666a-4614-9a43-dbc7b4d278dd"
      },
      "outputs": [
        {
          "name": "stderr",
          "output_type": "stream",
          "text": [
            "/usr/local/lib/python3.7/dist-packages/transformers/generation_utils.py:1207: UserWarning: Neither `max_length` nor `max_new_tokens` have been set, `max_length` will default to 64 (`self.config.max_length`). Controlling `max_length` via the config is deprecated and `max_length` will be removed from the config in v5 of Transformers -- we recommend using `max_new_tokens` to control the maximum length of the generation.\n",
            "  UserWarning,\n"
          ]
        }
      ],
      "source": [
        "# 요약_tensor ver.\n",
        "summary = model.generate(**tokens) # ** : container type의 데이터를 unpacking"
      ]
    },
    {
      "cell_type": "code",
      "execution_count": null,
      "metadata": {
        "colab": {
          "base_uri": "https://localhost:8080/"
        },
        "id": "BU4Zz70QOgb4",
        "outputId": "dc403e79-95cc-4c2a-b79b-68977acfdfbd"
      },
      "outputs": [
        {
          "data": {
            "text/plain": [
              "{'input_ids': tensor([[  198,   362,   117,   221,  1154,   112,  6607,   109,   637,   113,\n",
              "          38469,   148,   266,   114,  1124, 11408,   115, 50730, 16752,   107,\n",
              "          38469,   148,  4440,   114,   473,   121, 25669,   511,   115,   633,\n",
              "            985,   112, 50730,   107,   139,   473,  3453,   115,   136, 50730,\n",
              "            148,  1562,   135,  1780,   112,   384, 83414,   107,   651,   109,\n",
              "            176,   561,   108,   224,   109,  2878,   122,   109,   391,   427,\n",
              "            108, 38469,  2059,   112,  5763,   111,  1713,  1450,  2387,   817,\n",
              "            120,  1762,   223,   392,   135, 12863,  1370,   111,   427,   107,\n",
              "          38469,   148,   174,   375,  2448,   112,   369,  2387,   962,   120,\n",
              "            148,  5674,   115,  3946,   109,   533,  2233,   113,  8429,   107,\n",
              "            139,  2631,   148,   163,  4440,  7618,   253,   130,  9002,   692,\n",
              "           2083,   112,   211,  2233,   392,   108,   136,  5455,   115,  2186,\n",
              "            153,  9282,   496,   110,     1]]),\n",
              " 'attention_mask': tensor([[1, 1, 1, 1, 1, 1, 1, 1, 1, 1, 1, 1, 1, 1, 1, 1, 1, 1, 1, 1, 1, 1, 1, 1,\n",
              "          1, 1, 1, 1, 1, 1, 1, 1, 1, 1, 1, 1, 1, 1, 1, 1, 1, 1, 1, 1, 1, 1, 1, 1,\n",
              "          1, 1, 1, 1, 1, 1, 1, 1, 1, 1, 1, 1, 1, 1, 1, 1, 1, 1, 1, 1, 1, 1, 1, 1,\n",
              "          1, 1, 1, 1, 1, 1, 1, 1, 1, 1, 1, 1, 1, 1, 1, 1, 1, 1, 1, 1, 1, 1, 1, 1,\n",
              "          1, 1, 1, 1, 1, 1, 1, 1, 1, 1, 1, 1, 1, 1, 1, 1, 1, 1, 1, 1, 1, 1, 1, 1,\n",
              "          1, 1, 1, 1, 1]])}"
            ]
          },
          "execution_count": 10,
          "metadata": {},
          "output_type": "execute_result"
        }
      ],
      "source": [
        "{**tokens}"
      ]
    },
    {
      "cell_type": "code",
      "execution_count": null,
      "metadata": {
        "colab": {
          "base_uri": "https://localhost:8080/"
        },
        "id": "oioVcBPMOz2i",
        "outputId": "768050e3-3c67-4a53-900b-9b2b71df837b"
      },
      "outputs": [
        {
          "data": {
            "text/plain": [
              "tensor([[    0,   139,  5070,   121, 51143,   267,   490,   113, 67386,   502,\n",
              "           143, 78928,   158,   148,   243,   120,   109,  2631,   148,   266,\n",
              "           114,  1124, 11408,   115,   203,   637,   107,     1]])"
            ]
          },
          "execution_count": 11,
          "metadata": {},
          "output_type": "execute_result"
        }
      ],
      "source": [
        "summary[0]"
      ]
    },
    {
      "cell_type": "code",
      "execution_count": null,
      "metadata": {
        "colab": {
          "base_uri": "https://localhost:8080/",
          "height": 53
        },
        "id": "PPJGgdKuO4FL",
        "outputId": "c561899f-34f6-4e4c-df94-dcca11671f37"
      },
      "outputs": [
        {
          "data": {
            "application/vnd.google.colaboratory.intrinsic+json": {
              "type": "string"
            },
            "text/plain": [
              "'<pad> The vice-chancellor of Arunachal University (ASU) has said that the university has made a huge leap in its performance.</s>'"
            ]
          },
          "execution_count": 18,
          "metadata": {},
          "output_type": "execute_result"
        }
      ],
      "source": [
        "# 요약_text ver.(Decoding)\n",
        "summary_decode = tokenizer.decode(summary[0])\n",
        "summary_decode"
      ]
    },
    {
      "cell_type": "code",
      "execution_count": null,
      "metadata": {
        "colab": {
          "base_uri": "https://localhost:8080/"
        },
        "id": "xyc5juH2eWcc",
        "outputId": "477ba1d5-0db3-4e8d-f814-2a96a7cfd50c"
      },
      "outputs": [
        {
          "data": {
            "text/plain": [
              "str"
            ]
          },
          "execution_count": 19,
          "metadata": {},
          "output_type": "execute_result"
        }
      ],
      "source": [
        "type(summary_decode)"
      ]
    },
    {
      "cell_type": "code",
      "execution_count": null,
      "metadata": {
        "colab": {
          "base_uri": "https://localhost:8080/",
          "height": 53
        },
        "id": "I0QRKaXbeWeq",
        "outputId": "1b805b2d-6625-45b1-fdc5-c22c1375a06b"
      },
      "outputs": [
        {
          "data": {
            "application/vnd.google.colaboratory.intrinsic+json": {
              "type": "string"
            },
            "text/plain": [
              "'The vice-chancellor of Arunachal University (ASU) has said that the university has made a huge leap in its performance.'"
            ]
          },
          "execution_count": 21,
          "metadata": {},
          "output_type": "execute_result"
        }
      ],
      "source": [
        "# 불필요한 요소 제거\n",
        "summary_decode = summary_decode.replace(\"<pad> \", '')\n",
        "summary_decode = summary_decode.replace(\"</s>\", '')\n",
        "summary_decode"
      ]
    }
  ],
  "metadata": {
    "accelerator": "GPU",
    "colab": {
      "machine_shape": "hm",
      "provenance": [],
      "collapsed_sections": []
    },
    "gpuClass": "standard",
    "kernelspec": {
      "display_name": "Python 3",
      "name": "python3"
    },
    "language_info": {
      "name": "python"
    },
    "widgets": {
      "application/vnd.jupyter.widget-state+json": {
        "fed82e7698bf4c97a549aafb537771e8": {
          "model_module": "@jupyter-widgets/controls",
          "model_name": "HBoxModel",
          "model_module_version": "2.0.0",
          "state": {
            "_dom_classes": [],
            "_model_module": "@jupyter-widgets/controls",
            "_model_module_version": "2.0.0",
            "_model_name": "HBoxModel",
            "_view_count": null,
            "_view_module": "@jupyter-widgets/controls",
            "_view_module_version": "2.0.0",
            "_view_name": "HBoxView",
            "box_style": "",
            "children": [
              "IPY_MODEL_698dbb34e5a3410884bcaed0bcb0f63e",
              "IPY_MODEL_bef7ae7506f941eea5f0bb319e5f7c7a",
              "IPY_MODEL_ab369dec18f848cf9b6e8cdb88f22ad1"
            ],
            "layout": "IPY_MODEL_8aa51cd4acfc4a87bd46d9021e4f9611",
            "tabbable": null,
            "tooltip": null
          }
        },
        "698dbb34e5a3410884bcaed0bcb0f63e": {
          "model_module": "@jupyter-widgets/controls",
          "model_name": "HTMLModel",
          "model_module_version": "2.0.0",
          "state": {
            "_dom_classes": [],
            "_model_module": "@jupyter-widgets/controls",
            "_model_module_version": "2.0.0",
            "_model_name": "HTMLModel",
            "_view_count": null,
            "_view_module": "@jupyter-widgets/controls",
            "_view_module_version": "2.0.0",
            "_view_name": "HTMLView",
            "description": "",
            "description_allow_html": false,
            "layout": "IPY_MODEL_dfcc21a1bdf84bf399f390d67f7dee4e",
            "placeholder": "​",
            "style": "IPY_MODEL_d3ed61c84aeb4a3e873b8701b3e9ecb5",
            "tabbable": null,
            "tooltip": null,
            "value": "Downloading tokenizer_config.json: 100%"
          }
        },
        "bef7ae7506f941eea5f0bb319e5f7c7a": {
          "model_module": "@jupyter-widgets/controls",
          "model_name": "FloatProgressModel",
          "model_module_version": "2.0.0",
          "state": {
            "_dom_classes": [],
            "_model_module": "@jupyter-widgets/controls",
            "_model_module_version": "2.0.0",
            "_model_name": "FloatProgressModel",
            "_view_count": null,
            "_view_module": "@jupyter-widgets/controls",
            "_view_module_version": "2.0.0",
            "_view_name": "ProgressView",
            "bar_style": "success",
            "description": "",
            "description_allow_html": false,
            "layout": "IPY_MODEL_f904bf591e5543499a7d456aaba15608",
            "max": 87,
            "min": 0,
            "orientation": "horizontal",
            "style": "IPY_MODEL_55619bc1e23f4c9b9942db96d9f81f35",
            "tabbable": null,
            "tooltip": null,
            "value": 87
          }
        },
        "ab369dec18f848cf9b6e8cdb88f22ad1": {
          "model_module": "@jupyter-widgets/controls",
          "model_name": "HTMLModel",
          "model_module_version": "2.0.0",
          "state": {
            "_dom_classes": [],
            "_model_module": "@jupyter-widgets/controls",
            "_model_module_version": "2.0.0",
            "_model_name": "HTMLModel",
            "_view_count": null,
            "_view_module": "@jupyter-widgets/controls",
            "_view_module_version": "2.0.0",
            "_view_name": "HTMLView",
            "description": "",
            "description_allow_html": false,
            "layout": "IPY_MODEL_eee5b62991024146bc3b84a7423b6a76",
            "placeholder": "​",
            "style": "IPY_MODEL_1ff2d725845c4ec1926589b99d83ee6d",
            "tabbable": null,
            "tooltip": null,
            "value": " 87.0/87.0 [00:00&lt;00:00, 1.83kB/s]"
          }
        },
        "8aa51cd4acfc4a87bd46d9021e4f9611": {
          "model_module": "@jupyter-widgets/base",
          "model_name": "LayoutModel",
          "model_module_version": "2.0.0",
          "state": {
            "_model_module": "@jupyter-widgets/base",
            "_model_module_version": "2.0.0",
            "_model_name": "LayoutModel",
            "_view_count": null,
            "_view_module": "@jupyter-widgets/base",
            "_view_module_version": "2.0.0",
            "_view_name": "LayoutView",
            "align_content": null,
            "align_items": null,
            "align_self": null,
            "border_bottom": null,
            "border_left": null,
            "border_right": null,
            "border_top": null,
            "bottom": null,
            "display": null,
            "flex": null,
            "flex_flow": null,
            "grid_area": null,
            "grid_auto_columns": null,
            "grid_auto_flow": null,
            "grid_auto_rows": null,
            "grid_column": null,
            "grid_gap": null,
            "grid_row": null,
            "grid_template_areas": null,
            "grid_template_columns": null,
            "grid_template_rows": null,
            "height": null,
            "justify_content": null,
            "justify_items": null,
            "left": null,
            "margin": null,
            "max_height": null,
            "max_width": null,
            "min_height": null,
            "min_width": null,
            "object_fit": null,
            "object_position": null,
            "order": null,
            "overflow": null,
            "padding": null,
            "right": null,
            "top": null,
            "visibility": null,
            "width": null
          }
        },
        "dfcc21a1bdf84bf399f390d67f7dee4e": {
          "model_module": "@jupyter-widgets/base",
          "model_name": "LayoutModel",
          "model_module_version": "2.0.0",
          "state": {
            "_model_module": "@jupyter-widgets/base",
            "_model_module_version": "2.0.0",
            "_model_name": "LayoutModel",
            "_view_count": null,
            "_view_module": "@jupyter-widgets/base",
            "_view_module_version": "2.0.0",
            "_view_name": "LayoutView",
            "align_content": null,
            "align_items": null,
            "align_self": null,
            "border_bottom": null,
            "border_left": null,
            "border_right": null,
            "border_top": null,
            "bottom": null,
            "display": null,
            "flex": null,
            "flex_flow": null,
            "grid_area": null,
            "grid_auto_columns": null,
            "grid_auto_flow": null,
            "grid_auto_rows": null,
            "grid_column": null,
            "grid_gap": null,
            "grid_row": null,
            "grid_template_areas": null,
            "grid_template_columns": null,
            "grid_template_rows": null,
            "height": null,
            "justify_content": null,
            "justify_items": null,
            "left": null,
            "margin": null,
            "max_height": null,
            "max_width": null,
            "min_height": null,
            "min_width": null,
            "object_fit": null,
            "object_position": null,
            "order": null,
            "overflow": null,
            "padding": null,
            "right": null,
            "top": null,
            "visibility": null,
            "width": null
          }
        },
        "d3ed61c84aeb4a3e873b8701b3e9ecb5": {
          "model_module": "@jupyter-widgets/controls",
          "model_name": "HTMLStyleModel",
          "model_module_version": "2.0.0",
          "state": {
            "_model_module": "@jupyter-widgets/controls",
            "_model_module_version": "2.0.0",
            "_model_name": "HTMLStyleModel",
            "_view_count": null,
            "_view_module": "@jupyter-widgets/base",
            "_view_module_version": "2.0.0",
            "_view_name": "StyleView",
            "background": null,
            "description_width": "",
            "font_size": null,
            "text_color": null
          }
        },
        "f904bf591e5543499a7d456aaba15608": {
          "model_module": "@jupyter-widgets/base",
          "model_name": "LayoutModel",
          "model_module_version": "2.0.0",
          "state": {
            "_model_module": "@jupyter-widgets/base",
            "_model_module_version": "2.0.0",
            "_model_name": "LayoutModel",
            "_view_count": null,
            "_view_module": "@jupyter-widgets/base",
            "_view_module_version": "2.0.0",
            "_view_name": "LayoutView",
            "align_content": null,
            "align_items": null,
            "align_self": null,
            "border_bottom": null,
            "border_left": null,
            "border_right": null,
            "border_top": null,
            "bottom": null,
            "display": null,
            "flex": null,
            "flex_flow": null,
            "grid_area": null,
            "grid_auto_columns": null,
            "grid_auto_flow": null,
            "grid_auto_rows": null,
            "grid_column": null,
            "grid_gap": null,
            "grid_row": null,
            "grid_template_areas": null,
            "grid_template_columns": null,
            "grid_template_rows": null,
            "height": null,
            "justify_content": null,
            "justify_items": null,
            "left": null,
            "margin": null,
            "max_height": null,
            "max_width": null,
            "min_height": null,
            "min_width": null,
            "object_fit": null,
            "object_position": null,
            "order": null,
            "overflow": null,
            "padding": null,
            "right": null,
            "top": null,
            "visibility": null,
            "width": null
          }
        },
        "55619bc1e23f4c9b9942db96d9f81f35": {
          "model_module": "@jupyter-widgets/controls",
          "model_name": "ProgressStyleModel",
          "model_module_version": "2.0.0",
          "state": {
            "_model_module": "@jupyter-widgets/controls",
            "_model_module_version": "2.0.0",
            "_model_name": "ProgressStyleModel",
            "_view_count": null,
            "_view_module": "@jupyter-widgets/base",
            "_view_module_version": "2.0.0",
            "_view_name": "StyleView",
            "bar_color": null,
            "description_width": ""
          }
        },
        "eee5b62991024146bc3b84a7423b6a76": {
          "model_module": "@jupyter-widgets/base",
          "model_name": "LayoutModel",
          "model_module_version": "2.0.0",
          "state": {
            "_model_module": "@jupyter-widgets/base",
            "_model_module_version": "2.0.0",
            "_model_name": "LayoutModel",
            "_view_count": null,
            "_view_module": "@jupyter-widgets/base",
            "_view_module_version": "2.0.0",
            "_view_name": "LayoutView",
            "align_content": null,
            "align_items": null,
            "align_self": null,
            "border_bottom": null,
            "border_left": null,
            "border_right": null,
            "border_top": null,
            "bottom": null,
            "display": null,
            "flex": null,
            "flex_flow": null,
            "grid_area": null,
            "grid_auto_columns": null,
            "grid_auto_flow": null,
            "grid_auto_rows": null,
            "grid_column": null,
            "grid_gap": null,
            "grid_row": null,
            "grid_template_areas": null,
            "grid_template_columns": null,
            "grid_template_rows": null,
            "height": null,
            "justify_content": null,
            "justify_items": null,
            "left": null,
            "margin": null,
            "max_height": null,
            "max_width": null,
            "min_height": null,
            "min_width": null,
            "object_fit": null,
            "object_position": null,
            "order": null,
            "overflow": null,
            "padding": null,
            "right": null,
            "top": null,
            "visibility": null,
            "width": null
          }
        },
        "1ff2d725845c4ec1926589b99d83ee6d": {
          "model_module": "@jupyter-widgets/controls",
          "model_name": "HTMLStyleModel",
          "model_module_version": "2.0.0",
          "state": {
            "_model_module": "@jupyter-widgets/controls",
            "_model_module_version": "2.0.0",
            "_model_name": "HTMLStyleModel",
            "_view_count": null,
            "_view_module": "@jupyter-widgets/base",
            "_view_module_version": "2.0.0",
            "_view_name": "StyleView",
            "background": null,
            "description_width": "",
            "font_size": null,
            "text_color": null
          }
        },
        "33bf124249484e4eb835ec4a623f0dd0": {
          "model_module": "@jupyter-widgets/controls",
          "model_name": "HBoxModel",
          "model_module_version": "2.0.0",
          "state": {
            "_dom_classes": [],
            "_model_module": "@jupyter-widgets/controls",
            "_model_module_version": "2.0.0",
            "_model_name": "HBoxModel",
            "_view_count": null,
            "_view_module": "@jupyter-widgets/controls",
            "_view_module_version": "2.0.0",
            "_view_name": "HBoxView",
            "box_style": "",
            "children": [
              "IPY_MODEL_6a1ac062a33f4356a5d5007b195275af",
              "IPY_MODEL_4c410ce27cbd4c85aea488c5193a258e",
              "IPY_MODEL_1a72ff32a2554a1bbf5fc5d9812fb900"
            ],
            "layout": "IPY_MODEL_1949705b3fca4d36a879235310688ffe",
            "tabbable": null,
            "tooltip": null
          }
        },
        "6a1ac062a33f4356a5d5007b195275af": {
          "model_module": "@jupyter-widgets/controls",
          "model_name": "HTMLModel",
          "model_module_version": "2.0.0",
          "state": {
            "_dom_classes": [],
            "_model_module": "@jupyter-widgets/controls",
            "_model_module_version": "2.0.0",
            "_model_name": "HTMLModel",
            "_view_count": null,
            "_view_module": "@jupyter-widgets/controls",
            "_view_module_version": "2.0.0",
            "_view_name": "HTMLView",
            "description": "",
            "description_allow_html": false,
            "layout": "IPY_MODEL_9ea303ae7edb4c0d9d2b7933004c7565",
            "placeholder": "​",
            "style": "IPY_MODEL_cbe63ff60d714ed9bc1826ccc56d8196",
            "tabbable": null,
            "tooltip": null,
            "value": "Downloading config.json: 100%"
          }
        },
        "4c410ce27cbd4c85aea488c5193a258e": {
          "model_module": "@jupyter-widgets/controls",
          "model_name": "FloatProgressModel",
          "model_module_version": "2.0.0",
          "state": {
            "_dom_classes": [],
            "_model_module": "@jupyter-widgets/controls",
            "_model_module_version": "2.0.0",
            "_model_name": "FloatProgressModel",
            "_view_count": null,
            "_view_module": "@jupyter-widgets/controls",
            "_view_module_version": "2.0.0",
            "_view_name": "ProgressView",
            "bar_style": "success",
            "description": "",
            "description_allow_html": false,
            "layout": "IPY_MODEL_a708aa2b55d14e388089578a59383fe7",
            "max": 1392,
            "min": 0,
            "orientation": "horizontal",
            "style": "IPY_MODEL_2b6fbcf44fa843a194ba5bc45b40af43",
            "tabbable": null,
            "tooltip": null,
            "value": 1392
          }
        },
        "1a72ff32a2554a1bbf5fc5d9812fb900": {
          "model_module": "@jupyter-widgets/controls",
          "model_name": "HTMLModel",
          "model_module_version": "2.0.0",
          "state": {
            "_dom_classes": [],
            "_model_module": "@jupyter-widgets/controls",
            "_model_module_version": "2.0.0",
            "_model_name": "HTMLModel",
            "_view_count": null,
            "_view_module": "@jupyter-widgets/controls",
            "_view_module_version": "2.0.0",
            "_view_name": "HTMLView",
            "description": "",
            "description_allow_html": false,
            "layout": "IPY_MODEL_fd8fac3e4ae54fb3a1d88f525a0d28d9",
            "placeholder": "​",
            "style": "IPY_MODEL_b7f8ee7e967a441f82eab1c04695eceb",
            "tabbable": null,
            "tooltip": null,
            "value": " 1.36k/1.36k [00:00&lt;00:00, 18.4kB/s]"
          }
        },
        "1949705b3fca4d36a879235310688ffe": {
          "model_module": "@jupyter-widgets/base",
          "model_name": "LayoutModel",
          "model_module_version": "2.0.0",
          "state": {
            "_model_module": "@jupyter-widgets/base",
            "_model_module_version": "2.0.0",
            "_model_name": "LayoutModel",
            "_view_count": null,
            "_view_module": "@jupyter-widgets/base",
            "_view_module_version": "2.0.0",
            "_view_name": "LayoutView",
            "align_content": null,
            "align_items": null,
            "align_self": null,
            "border_bottom": null,
            "border_left": null,
            "border_right": null,
            "border_top": null,
            "bottom": null,
            "display": null,
            "flex": null,
            "flex_flow": null,
            "grid_area": null,
            "grid_auto_columns": null,
            "grid_auto_flow": null,
            "grid_auto_rows": null,
            "grid_column": null,
            "grid_gap": null,
            "grid_row": null,
            "grid_template_areas": null,
            "grid_template_columns": null,
            "grid_template_rows": null,
            "height": null,
            "justify_content": null,
            "justify_items": null,
            "left": null,
            "margin": null,
            "max_height": null,
            "max_width": null,
            "min_height": null,
            "min_width": null,
            "object_fit": null,
            "object_position": null,
            "order": null,
            "overflow": null,
            "padding": null,
            "right": null,
            "top": null,
            "visibility": null,
            "width": null
          }
        },
        "9ea303ae7edb4c0d9d2b7933004c7565": {
          "model_module": "@jupyter-widgets/base",
          "model_name": "LayoutModel",
          "model_module_version": "2.0.0",
          "state": {
            "_model_module": "@jupyter-widgets/base",
            "_model_module_version": "2.0.0",
            "_model_name": "LayoutModel",
            "_view_count": null,
            "_view_module": "@jupyter-widgets/base",
            "_view_module_version": "2.0.0",
            "_view_name": "LayoutView",
            "align_content": null,
            "align_items": null,
            "align_self": null,
            "border_bottom": null,
            "border_left": null,
            "border_right": null,
            "border_top": null,
            "bottom": null,
            "display": null,
            "flex": null,
            "flex_flow": null,
            "grid_area": null,
            "grid_auto_columns": null,
            "grid_auto_flow": null,
            "grid_auto_rows": null,
            "grid_column": null,
            "grid_gap": null,
            "grid_row": null,
            "grid_template_areas": null,
            "grid_template_columns": null,
            "grid_template_rows": null,
            "height": null,
            "justify_content": null,
            "justify_items": null,
            "left": null,
            "margin": null,
            "max_height": null,
            "max_width": null,
            "min_height": null,
            "min_width": null,
            "object_fit": null,
            "object_position": null,
            "order": null,
            "overflow": null,
            "padding": null,
            "right": null,
            "top": null,
            "visibility": null,
            "width": null
          }
        },
        "cbe63ff60d714ed9bc1826ccc56d8196": {
          "model_module": "@jupyter-widgets/controls",
          "model_name": "HTMLStyleModel",
          "model_module_version": "2.0.0",
          "state": {
            "_model_module": "@jupyter-widgets/controls",
            "_model_module_version": "2.0.0",
            "_model_name": "HTMLStyleModel",
            "_view_count": null,
            "_view_module": "@jupyter-widgets/base",
            "_view_module_version": "2.0.0",
            "_view_name": "StyleView",
            "background": null,
            "description_width": "",
            "font_size": null,
            "text_color": null
          }
        },
        "a708aa2b55d14e388089578a59383fe7": {
          "model_module": "@jupyter-widgets/base",
          "model_name": "LayoutModel",
          "model_module_version": "2.0.0",
          "state": {
            "_model_module": "@jupyter-widgets/base",
            "_model_module_version": "2.0.0",
            "_model_name": "LayoutModel",
            "_view_count": null,
            "_view_module": "@jupyter-widgets/base",
            "_view_module_version": "2.0.0",
            "_view_name": "LayoutView",
            "align_content": null,
            "align_items": null,
            "align_self": null,
            "border_bottom": null,
            "border_left": null,
            "border_right": null,
            "border_top": null,
            "bottom": null,
            "display": null,
            "flex": null,
            "flex_flow": null,
            "grid_area": null,
            "grid_auto_columns": null,
            "grid_auto_flow": null,
            "grid_auto_rows": null,
            "grid_column": null,
            "grid_gap": null,
            "grid_row": null,
            "grid_template_areas": null,
            "grid_template_columns": null,
            "grid_template_rows": null,
            "height": null,
            "justify_content": null,
            "justify_items": null,
            "left": null,
            "margin": null,
            "max_height": null,
            "max_width": null,
            "min_height": null,
            "min_width": null,
            "object_fit": null,
            "object_position": null,
            "order": null,
            "overflow": null,
            "padding": null,
            "right": null,
            "top": null,
            "visibility": null,
            "width": null
          }
        },
        "2b6fbcf44fa843a194ba5bc45b40af43": {
          "model_module": "@jupyter-widgets/controls",
          "model_name": "ProgressStyleModel",
          "model_module_version": "2.0.0",
          "state": {
            "_model_module": "@jupyter-widgets/controls",
            "_model_module_version": "2.0.0",
            "_model_name": "ProgressStyleModel",
            "_view_count": null,
            "_view_module": "@jupyter-widgets/base",
            "_view_module_version": "2.0.0",
            "_view_name": "StyleView",
            "bar_color": null,
            "description_width": ""
          }
        },
        "fd8fac3e4ae54fb3a1d88f525a0d28d9": {
          "model_module": "@jupyter-widgets/base",
          "model_name": "LayoutModel",
          "model_module_version": "2.0.0",
          "state": {
            "_model_module": "@jupyter-widgets/base",
            "_model_module_version": "2.0.0",
            "_model_name": "LayoutModel",
            "_view_count": null,
            "_view_module": "@jupyter-widgets/base",
            "_view_module_version": "2.0.0",
            "_view_name": "LayoutView",
            "align_content": null,
            "align_items": null,
            "align_self": null,
            "border_bottom": null,
            "border_left": null,
            "border_right": null,
            "border_top": null,
            "bottom": null,
            "display": null,
            "flex": null,
            "flex_flow": null,
            "grid_area": null,
            "grid_auto_columns": null,
            "grid_auto_flow": null,
            "grid_auto_rows": null,
            "grid_column": null,
            "grid_gap": null,
            "grid_row": null,
            "grid_template_areas": null,
            "grid_template_columns": null,
            "grid_template_rows": null,
            "height": null,
            "justify_content": null,
            "justify_items": null,
            "left": null,
            "margin": null,
            "max_height": null,
            "max_width": null,
            "min_height": null,
            "min_width": null,
            "object_fit": null,
            "object_position": null,
            "order": null,
            "overflow": null,
            "padding": null,
            "right": null,
            "top": null,
            "visibility": null,
            "width": null
          }
        },
        "b7f8ee7e967a441f82eab1c04695eceb": {
          "model_module": "@jupyter-widgets/controls",
          "model_name": "HTMLStyleModel",
          "model_module_version": "2.0.0",
          "state": {
            "_model_module": "@jupyter-widgets/controls",
            "_model_module_version": "2.0.0",
            "_model_name": "HTMLStyleModel",
            "_view_count": null,
            "_view_module": "@jupyter-widgets/base",
            "_view_module_version": "2.0.0",
            "_view_name": "StyleView",
            "background": null,
            "description_width": "",
            "font_size": null,
            "text_color": null
          }
        },
        "7b4108fb17ef4ba7b05328fc09f6d9df": {
          "model_module": "@jupyter-widgets/controls",
          "model_name": "HBoxModel",
          "model_module_version": "2.0.0",
          "state": {
            "_dom_classes": [],
            "_model_module": "@jupyter-widgets/controls",
            "_model_module_version": "2.0.0",
            "_model_name": "HBoxModel",
            "_view_count": null,
            "_view_module": "@jupyter-widgets/controls",
            "_view_module_version": "2.0.0",
            "_view_name": "HBoxView",
            "box_style": "",
            "children": [
              "IPY_MODEL_7a7b26b3936044999291fc1c0b92f615",
              "IPY_MODEL_6bfe474632de47fdb4ac5f4f463ccf5e",
              "IPY_MODEL_d6453f56020a4f558fa999ec2dd0e73f"
            ],
            "layout": "IPY_MODEL_1ee11a8acfd54e29895fa43da884a9c3",
            "tabbable": null,
            "tooltip": null
          }
        },
        "7a7b26b3936044999291fc1c0b92f615": {
          "model_module": "@jupyter-widgets/controls",
          "model_name": "HTMLModel",
          "model_module_version": "2.0.0",
          "state": {
            "_dom_classes": [],
            "_model_module": "@jupyter-widgets/controls",
            "_model_module_version": "2.0.0",
            "_model_name": "HTMLModel",
            "_view_count": null,
            "_view_module": "@jupyter-widgets/controls",
            "_view_module_version": "2.0.0",
            "_view_name": "HTMLView",
            "description": "",
            "description_allow_html": false,
            "layout": "IPY_MODEL_538b4a645dec4896843fd0b31a2ef950",
            "placeholder": "​",
            "style": "IPY_MODEL_f5a010c52cff4bb3af8d99be93998ca8",
            "tabbable": null,
            "tooltip": null,
            "value": "Downloading spiece.model: 100%"
          }
        },
        "6bfe474632de47fdb4ac5f4f463ccf5e": {
          "model_module": "@jupyter-widgets/controls",
          "model_name": "FloatProgressModel",
          "model_module_version": "2.0.0",
          "state": {
            "_dom_classes": [],
            "_model_module": "@jupyter-widgets/controls",
            "_model_module_version": "2.0.0",
            "_model_name": "FloatProgressModel",
            "_view_count": null,
            "_view_module": "@jupyter-widgets/controls",
            "_view_module_version": "2.0.0",
            "_view_name": "ProgressView",
            "bar_style": "success",
            "description": "",
            "description_allow_html": false,
            "layout": "IPY_MODEL_094f67f1fd0b4199bddd0bcd41b9dec7",
            "max": 1912529,
            "min": 0,
            "orientation": "horizontal",
            "style": "IPY_MODEL_4d81280a718248259473c2679de542fd",
            "tabbable": null,
            "tooltip": null,
            "value": 1912529
          }
        },
        "d6453f56020a4f558fa999ec2dd0e73f": {
          "model_module": "@jupyter-widgets/controls",
          "model_name": "HTMLModel",
          "model_module_version": "2.0.0",
          "state": {
            "_dom_classes": [],
            "_model_module": "@jupyter-widgets/controls",
            "_model_module_version": "2.0.0",
            "_model_name": "HTMLModel",
            "_view_count": null,
            "_view_module": "@jupyter-widgets/controls",
            "_view_module_version": "2.0.0",
            "_view_name": "HTMLView",
            "description": "",
            "description_allow_html": false,
            "layout": "IPY_MODEL_acb1b0dcec2c4a678dba37b15d0d0dea",
            "placeholder": "​",
            "style": "IPY_MODEL_e93f49fc2a194de88e48fe14e8e120e4",
            "tabbable": null,
            "tooltip": null,
            "value": " 1.82M/1.82M [00:00&lt;00:00, 2.06MB/s]"
          }
        },
        "1ee11a8acfd54e29895fa43da884a9c3": {
          "model_module": "@jupyter-widgets/base",
          "model_name": "LayoutModel",
          "model_module_version": "2.0.0",
          "state": {
            "_model_module": "@jupyter-widgets/base",
            "_model_module_version": "2.0.0",
            "_model_name": "LayoutModel",
            "_view_count": null,
            "_view_module": "@jupyter-widgets/base",
            "_view_module_version": "2.0.0",
            "_view_name": "LayoutView",
            "align_content": null,
            "align_items": null,
            "align_self": null,
            "border_bottom": null,
            "border_left": null,
            "border_right": null,
            "border_top": null,
            "bottom": null,
            "display": null,
            "flex": null,
            "flex_flow": null,
            "grid_area": null,
            "grid_auto_columns": null,
            "grid_auto_flow": null,
            "grid_auto_rows": null,
            "grid_column": null,
            "grid_gap": null,
            "grid_row": null,
            "grid_template_areas": null,
            "grid_template_columns": null,
            "grid_template_rows": null,
            "height": null,
            "justify_content": null,
            "justify_items": null,
            "left": null,
            "margin": null,
            "max_height": null,
            "max_width": null,
            "min_height": null,
            "min_width": null,
            "object_fit": null,
            "object_position": null,
            "order": null,
            "overflow": null,
            "padding": null,
            "right": null,
            "top": null,
            "visibility": null,
            "width": null
          }
        },
        "538b4a645dec4896843fd0b31a2ef950": {
          "model_module": "@jupyter-widgets/base",
          "model_name": "LayoutModel",
          "model_module_version": "2.0.0",
          "state": {
            "_model_module": "@jupyter-widgets/base",
            "_model_module_version": "2.0.0",
            "_model_name": "LayoutModel",
            "_view_count": null,
            "_view_module": "@jupyter-widgets/base",
            "_view_module_version": "2.0.0",
            "_view_name": "LayoutView",
            "align_content": null,
            "align_items": null,
            "align_self": null,
            "border_bottom": null,
            "border_left": null,
            "border_right": null,
            "border_top": null,
            "bottom": null,
            "display": null,
            "flex": null,
            "flex_flow": null,
            "grid_area": null,
            "grid_auto_columns": null,
            "grid_auto_flow": null,
            "grid_auto_rows": null,
            "grid_column": null,
            "grid_gap": null,
            "grid_row": null,
            "grid_template_areas": null,
            "grid_template_columns": null,
            "grid_template_rows": null,
            "height": null,
            "justify_content": null,
            "justify_items": null,
            "left": null,
            "margin": null,
            "max_height": null,
            "max_width": null,
            "min_height": null,
            "min_width": null,
            "object_fit": null,
            "object_position": null,
            "order": null,
            "overflow": null,
            "padding": null,
            "right": null,
            "top": null,
            "visibility": null,
            "width": null
          }
        },
        "f5a010c52cff4bb3af8d99be93998ca8": {
          "model_module": "@jupyter-widgets/controls",
          "model_name": "HTMLStyleModel",
          "model_module_version": "2.0.0",
          "state": {
            "_model_module": "@jupyter-widgets/controls",
            "_model_module_version": "2.0.0",
            "_model_name": "HTMLStyleModel",
            "_view_count": null,
            "_view_module": "@jupyter-widgets/base",
            "_view_module_version": "2.0.0",
            "_view_name": "StyleView",
            "background": null,
            "description_width": "",
            "font_size": null,
            "text_color": null
          }
        },
        "094f67f1fd0b4199bddd0bcd41b9dec7": {
          "model_module": "@jupyter-widgets/base",
          "model_name": "LayoutModel",
          "model_module_version": "2.0.0",
          "state": {
            "_model_module": "@jupyter-widgets/base",
            "_model_module_version": "2.0.0",
            "_model_name": "LayoutModel",
            "_view_count": null,
            "_view_module": "@jupyter-widgets/base",
            "_view_module_version": "2.0.0",
            "_view_name": "LayoutView",
            "align_content": null,
            "align_items": null,
            "align_self": null,
            "border_bottom": null,
            "border_left": null,
            "border_right": null,
            "border_top": null,
            "bottom": null,
            "display": null,
            "flex": null,
            "flex_flow": null,
            "grid_area": null,
            "grid_auto_columns": null,
            "grid_auto_flow": null,
            "grid_auto_rows": null,
            "grid_column": null,
            "grid_gap": null,
            "grid_row": null,
            "grid_template_areas": null,
            "grid_template_columns": null,
            "grid_template_rows": null,
            "height": null,
            "justify_content": null,
            "justify_items": null,
            "left": null,
            "margin": null,
            "max_height": null,
            "max_width": null,
            "min_height": null,
            "min_width": null,
            "object_fit": null,
            "object_position": null,
            "order": null,
            "overflow": null,
            "padding": null,
            "right": null,
            "top": null,
            "visibility": null,
            "width": null
          }
        },
        "4d81280a718248259473c2679de542fd": {
          "model_module": "@jupyter-widgets/controls",
          "model_name": "ProgressStyleModel",
          "model_module_version": "2.0.0",
          "state": {
            "_model_module": "@jupyter-widgets/controls",
            "_model_module_version": "2.0.0",
            "_model_name": "ProgressStyleModel",
            "_view_count": null,
            "_view_module": "@jupyter-widgets/base",
            "_view_module_version": "2.0.0",
            "_view_name": "StyleView",
            "bar_color": null,
            "description_width": ""
          }
        },
        "acb1b0dcec2c4a678dba37b15d0d0dea": {
          "model_module": "@jupyter-widgets/base",
          "model_name": "LayoutModel",
          "model_module_version": "2.0.0",
          "state": {
            "_model_module": "@jupyter-widgets/base",
            "_model_module_version": "2.0.0",
            "_model_name": "LayoutModel",
            "_view_count": null,
            "_view_module": "@jupyter-widgets/base",
            "_view_module_version": "2.0.0",
            "_view_name": "LayoutView",
            "align_content": null,
            "align_items": null,
            "align_self": null,
            "border_bottom": null,
            "border_left": null,
            "border_right": null,
            "border_top": null,
            "bottom": null,
            "display": null,
            "flex": null,
            "flex_flow": null,
            "grid_area": null,
            "grid_auto_columns": null,
            "grid_auto_flow": null,
            "grid_auto_rows": null,
            "grid_column": null,
            "grid_gap": null,
            "grid_row": null,
            "grid_template_areas": null,
            "grid_template_columns": null,
            "grid_template_rows": null,
            "height": null,
            "justify_content": null,
            "justify_items": null,
            "left": null,
            "margin": null,
            "max_height": null,
            "max_width": null,
            "min_height": null,
            "min_width": null,
            "object_fit": null,
            "object_position": null,
            "order": null,
            "overflow": null,
            "padding": null,
            "right": null,
            "top": null,
            "visibility": null,
            "width": null
          }
        },
        "e93f49fc2a194de88e48fe14e8e120e4": {
          "model_module": "@jupyter-widgets/controls",
          "model_name": "HTMLStyleModel",
          "model_module_version": "2.0.0",
          "state": {
            "_model_module": "@jupyter-widgets/controls",
            "_model_module_version": "2.0.0",
            "_model_name": "HTMLStyleModel",
            "_view_count": null,
            "_view_module": "@jupyter-widgets/base",
            "_view_module_version": "2.0.0",
            "_view_name": "StyleView",
            "background": null,
            "description_width": "",
            "font_size": null,
            "text_color": null
          }
        },
        "39ce7c1645c84172ac7b7fcea8d26331": {
          "model_module": "@jupyter-widgets/controls",
          "model_name": "HBoxModel",
          "model_module_version": "2.0.0",
          "state": {
            "_dom_classes": [],
            "_model_module": "@jupyter-widgets/controls",
            "_model_module_version": "2.0.0",
            "_model_name": "HBoxModel",
            "_view_count": null,
            "_view_module": "@jupyter-widgets/controls",
            "_view_module_version": "2.0.0",
            "_view_name": "HBoxView",
            "box_style": "",
            "children": [
              "IPY_MODEL_0c07ea08ab4940ff8514abe9e31c7e36",
              "IPY_MODEL_bd3bded61e054e91a0c442f94d63f6ba",
              "IPY_MODEL_6aaac6da73e44fdb9f2b9e3bb568fc3a"
            ],
            "layout": "IPY_MODEL_662b9e49afa443f78a47fc3b1202727e",
            "tabbable": null,
            "tooltip": null
          }
        },
        "0c07ea08ab4940ff8514abe9e31c7e36": {
          "model_module": "@jupyter-widgets/controls",
          "model_name": "HTMLModel",
          "model_module_version": "2.0.0",
          "state": {
            "_dom_classes": [],
            "_model_module": "@jupyter-widgets/controls",
            "_model_module_version": "2.0.0",
            "_model_name": "HTMLModel",
            "_view_count": null,
            "_view_module": "@jupyter-widgets/controls",
            "_view_module_version": "2.0.0",
            "_view_name": "HTMLView",
            "description": "",
            "description_allow_html": false,
            "layout": "IPY_MODEL_3958f0a8b5474995b1afd2218476a6a9",
            "placeholder": "​",
            "style": "IPY_MODEL_4c83bf60abc246e1b2bc85a1f9dcd43e",
            "tabbable": null,
            "tooltip": null,
            "value": "Downloading tokenizer.json: 100%"
          }
        },
        "bd3bded61e054e91a0c442f94d63f6ba": {
          "model_module": "@jupyter-widgets/controls",
          "model_name": "FloatProgressModel",
          "model_module_version": "2.0.0",
          "state": {
            "_dom_classes": [],
            "_model_module": "@jupyter-widgets/controls",
            "_model_module_version": "2.0.0",
            "_model_name": "FloatProgressModel",
            "_view_count": null,
            "_view_module": "@jupyter-widgets/controls",
            "_view_module_version": "2.0.0",
            "_view_name": "ProgressView",
            "bar_style": "success",
            "description": "",
            "description_allow_html": false,
            "layout": "IPY_MODEL_52279e450b244ed186e631857637f25b",
            "max": 3520083,
            "min": 0,
            "orientation": "horizontal",
            "style": "IPY_MODEL_8409d1e69a0f4007907112e74fe89050",
            "tabbable": null,
            "tooltip": null,
            "value": 3520083
          }
        },
        "6aaac6da73e44fdb9f2b9e3bb568fc3a": {
          "model_module": "@jupyter-widgets/controls",
          "model_name": "HTMLModel",
          "model_module_version": "2.0.0",
          "state": {
            "_dom_classes": [],
            "_model_module": "@jupyter-widgets/controls",
            "_model_module_version": "2.0.0",
            "_model_name": "HTMLModel",
            "_view_count": null,
            "_view_module": "@jupyter-widgets/controls",
            "_view_module_version": "2.0.0",
            "_view_name": "HTMLView",
            "description": "",
            "description_allow_html": false,
            "layout": "IPY_MODEL_5f9724df2f594e8291e52f3dc55c3c0f",
            "placeholder": "​",
            "style": "IPY_MODEL_b1487db4083e4176b7b4b8493d62ce07",
            "tabbable": null,
            "tooltip": null,
            "value": " 3.36M/3.36M [00:00&lt;00:00, 15.6MB/s]"
          }
        },
        "662b9e49afa443f78a47fc3b1202727e": {
          "model_module": "@jupyter-widgets/base",
          "model_name": "LayoutModel",
          "model_module_version": "2.0.0",
          "state": {
            "_model_module": "@jupyter-widgets/base",
            "_model_module_version": "2.0.0",
            "_model_name": "LayoutModel",
            "_view_count": null,
            "_view_module": "@jupyter-widgets/base",
            "_view_module_version": "2.0.0",
            "_view_name": "LayoutView",
            "align_content": null,
            "align_items": null,
            "align_self": null,
            "border_bottom": null,
            "border_left": null,
            "border_right": null,
            "border_top": null,
            "bottom": null,
            "display": null,
            "flex": null,
            "flex_flow": null,
            "grid_area": null,
            "grid_auto_columns": null,
            "grid_auto_flow": null,
            "grid_auto_rows": null,
            "grid_column": null,
            "grid_gap": null,
            "grid_row": null,
            "grid_template_areas": null,
            "grid_template_columns": null,
            "grid_template_rows": null,
            "height": null,
            "justify_content": null,
            "justify_items": null,
            "left": null,
            "margin": null,
            "max_height": null,
            "max_width": null,
            "min_height": null,
            "min_width": null,
            "object_fit": null,
            "object_position": null,
            "order": null,
            "overflow": null,
            "padding": null,
            "right": null,
            "top": null,
            "visibility": null,
            "width": null
          }
        },
        "3958f0a8b5474995b1afd2218476a6a9": {
          "model_module": "@jupyter-widgets/base",
          "model_name": "LayoutModel",
          "model_module_version": "2.0.0",
          "state": {
            "_model_module": "@jupyter-widgets/base",
            "_model_module_version": "2.0.0",
            "_model_name": "LayoutModel",
            "_view_count": null,
            "_view_module": "@jupyter-widgets/base",
            "_view_module_version": "2.0.0",
            "_view_name": "LayoutView",
            "align_content": null,
            "align_items": null,
            "align_self": null,
            "border_bottom": null,
            "border_left": null,
            "border_right": null,
            "border_top": null,
            "bottom": null,
            "display": null,
            "flex": null,
            "flex_flow": null,
            "grid_area": null,
            "grid_auto_columns": null,
            "grid_auto_flow": null,
            "grid_auto_rows": null,
            "grid_column": null,
            "grid_gap": null,
            "grid_row": null,
            "grid_template_areas": null,
            "grid_template_columns": null,
            "grid_template_rows": null,
            "height": null,
            "justify_content": null,
            "justify_items": null,
            "left": null,
            "margin": null,
            "max_height": null,
            "max_width": null,
            "min_height": null,
            "min_width": null,
            "object_fit": null,
            "object_position": null,
            "order": null,
            "overflow": null,
            "padding": null,
            "right": null,
            "top": null,
            "visibility": null,
            "width": null
          }
        },
        "4c83bf60abc246e1b2bc85a1f9dcd43e": {
          "model_module": "@jupyter-widgets/controls",
          "model_name": "HTMLStyleModel",
          "model_module_version": "2.0.0",
          "state": {
            "_model_module": "@jupyter-widgets/controls",
            "_model_module_version": "2.0.0",
            "_model_name": "HTMLStyleModel",
            "_view_count": null,
            "_view_module": "@jupyter-widgets/base",
            "_view_module_version": "2.0.0",
            "_view_name": "StyleView",
            "background": null,
            "description_width": "",
            "font_size": null,
            "text_color": null
          }
        },
        "52279e450b244ed186e631857637f25b": {
          "model_module": "@jupyter-widgets/base",
          "model_name": "LayoutModel",
          "model_module_version": "2.0.0",
          "state": {
            "_model_module": "@jupyter-widgets/base",
            "_model_module_version": "2.0.0",
            "_model_name": "LayoutModel",
            "_view_count": null,
            "_view_module": "@jupyter-widgets/base",
            "_view_module_version": "2.0.0",
            "_view_name": "LayoutView",
            "align_content": null,
            "align_items": null,
            "align_self": null,
            "border_bottom": null,
            "border_left": null,
            "border_right": null,
            "border_top": null,
            "bottom": null,
            "display": null,
            "flex": null,
            "flex_flow": null,
            "grid_area": null,
            "grid_auto_columns": null,
            "grid_auto_flow": null,
            "grid_auto_rows": null,
            "grid_column": null,
            "grid_gap": null,
            "grid_row": null,
            "grid_template_areas": null,
            "grid_template_columns": null,
            "grid_template_rows": null,
            "height": null,
            "justify_content": null,
            "justify_items": null,
            "left": null,
            "margin": null,
            "max_height": null,
            "max_width": null,
            "min_height": null,
            "min_width": null,
            "object_fit": null,
            "object_position": null,
            "order": null,
            "overflow": null,
            "padding": null,
            "right": null,
            "top": null,
            "visibility": null,
            "width": null
          }
        },
        "8409d1e69a0f4007907112e74fe89050": {
          "model_module": "@jupyter-widgets/controls",
          "model_name": "ProgressStyleModel",
          "model_module_version": "2.0.0",
          "state": {
            "_model_module": "@jupyter-widgets/controls",
            "_model_module_version": "2.0.0",
            "_model_name": "ProgressStyleModel",
            "_view_count": null,
            "_view_module": "@jupyter-widgets/base",
            "_view_module_version": "2.0.0",
            "_view_name": "StyleView",
            "bar_color": null,
            "description_width": ""
          }
        },
        "5f9724df2f594e8291e52f3dc55c3c0f": {
          "model_module": "@jupyter-widgets/base",
          "model_name": "LayoutModel",
          "model_module_version": "2.0.0",
          "state": {
            "_model_module": "@jupyter-widgets/base",
            "_model_module_version": "2.0.0",
            "_model_name": "LayoutModel",
            "_view_count": null,
            "_view_module": "@jupyter-widgets/base",
            "_view_module_version": "2.0.0",
            "_view_name": "LayoutView",
            "align_content": null,
            "align_items": null,
            "align_self": null,
            "border_bottom": null,
            "border_left": null,
            "border_right": null,
            "border_top": null,
            "bottom": null,
            "display": null,
            "flex": null,
            "flex_flow": null,
            "grid_area": null,
            "grid_auto_columns": null,
            "grid_auto_flow": null,
            "grid_auto_rows": null,
            "grid_column": null,
            "grid_gap": null,
            "grid_row": null,
            "grid_template_areas": null,
            "grid_template_columns": null,
            "grid_template_rows": null,
            "height": null,
            "justify_content": null,
            "justify_items": null,
            "left": null,
            "margin": null,
            "max_height": null,
            "max_width": null,
            "min_height": null,
            "min_width": null,
            "object_fit": null,
            "object_position": null,
            "order": null,
            "overflow": null,
            "padding": null,
            "right": null,
            "top": null,
            "visibility": null,
            "width": null
          }
        },
        "b1487db4083e4176b7b4b8493d62ce07": {
          "model_module": "@jupyter-widgets/controls",
          "model_name": "HTMLStyleModel",
          "model_module_version": "2.0.0",
          "state": {
            "_model_module": "@jupyter-widgets/controls",
            "_model_module_version": "2.0.0",
            "_model_name": "HTMLStyleModel",
            "_view_count": null,
            "_view_module": "@jupyter-widgets/base",
            "_view_module_version": "2.0.0",
            "_view_name": "StyleView",
            "background": null,
            "description_width": "",
            "font_size": null,
            "text_color": null
          }
        },
        "7b465b183c43423ebc3ae1677275bbb9": {
          "model_module": "@jupyter-widgets/controls",
          "model_name": "HBoxModel",
          "model_module_version": "2.0.0",
          "state": {
            "_dom_classes": [],
            "_model_module": "@jupyter-widgets/controls",
            "_model_module_version": "2.0.0",
            "_model_name": "HBoxModel",
            "_view_count": null,
            "_view_module": "@jupyter-widgets/controls",
            "_view_module_version": "2.0.0",
            "_view_name": "HBoxView",
            "box_style": "",
            "children": [
              "IPY_MODEL_a1c97c19aabb4f22b13c0473a932f987",
              "IPY_MODEL_9ebd194dc2734370959c25f65354ef7f",
              "IPY_MODEL_4d656e6fe7b34ae79b0d242f14d805de"
            ],
            "layout": "IPY_MODEL_42a59b71cf164359b3b9fe1d06f8ab30",
            "tabbable": null,
            "tooltip": null
          }
        },
        "a1c97c19aabb4f22b13c0473a932f987": {
          "model_module": "@jupyter-widgets/controls",
          "model_name": "HTMLModel",
          "model_module_version": "2.0.0",
          "state": {
            "_dom_classes": [],
            "_model_module": "@jupyter-widgets/controls",
            "_model_module_version": "2.0.0",
            "_model_name": "HTMLModel",
            "_view_count": null,
            "_view_module": "@jupyter-widgets/controls",
            "_view_module_version": "2.0.0",
            "_view_name": "HTMLView",
            "description": "",
            "description_allow_html": false,
            "layout": "IPY_MODEL_232de1d4d2204487b7c259fc08af9408",
            "placeholder": "​",
            "style": "IPY_MODEL_a3cc39c5c6384761afc2a261612ac231",
            "tabbable": null,
            "tooltip": null,
            "value": "Downloading special_tokens_map.json: 100%"
          }
        },
        "9ebd194dc2734370959c25f65354ef7f": {
          "model_module": "@jupyter-widgets/controls",
          "model_name": "FloatProgressModel",
          "model_module_version": "2.0.0",
          "state": {
            "_dom_classes": [],
            "_model_module": "@jupyter-widgets/controls",
            "_model_module_version": "2.0.0",
            "_model_name": "FloatProgressModel",
            "_view_count": null,
            "_view_module": "@jupyter-widgets/controls",
            "_view_module_version": "2.0.0",
            "_view_name": "ProgressView",
            "bar_style": "success",
            "description": "",
            "description_allow_html": false,
            "layout": "IPY_MODEL_091b01f8a35146fd830b0569a873d466",
            "max": 65,
            "min": 0,
            "orientation": "horizontal",
            "style": "IPY_MODEL_c44f2b6e116f4dc682356b58ae5697a3",
            "tabbable": null,
            "tooltip": null,
            "value": 65
          }
        },
        "4d656e6fe7b34ae79b0d242f14d805de": {
          "model_module": "@jupyter-widgets/controls",
          "model_name": "HTMLModel",
          "model_module_version": "2.0.0",
          "state": {
            "_dom_classes": [],
            "_model_module": "@jupyter-widgets/controls",
            "_model_module_version": "2.0.0",
            "_model_name": "HTMLModel",
            "_view_count": null,
            "_view_module": "@jupyter-widgets/controls",
            "_view_module_version": "2.0.0",
            "_view_name": "HTMLView",
            "description": "",
            "description_allow_html": false,
            "layout": "IPY_MODEL_cc7269b28f1844389e248d5aeaf78e89",
            "placeholder": "​",
            "style": "IPY_MODEL_e708f0775dd74321aaef2d98ba5f0afa",
            "tabbable": null,
            "tooltip": null,
            "value": " 65.0/65.0 [00:00&lt;00:00, 885B/s]"
          }
        },
        "42a59b71cf164359b3b9fe1d06f8ab30": {
          "model_module": "@jupyter-widgets/base",
          "model_name": "LayoutModel",
          "model_module_version": "2.0.0",
          "state": {
            "_model_module": "@jupyter-widgets/base",
            "_model_module_version": "2.0.0",
            "_model_name": "LayoutModel",
            "_view_count": null,
            "_view_module": "@jupyter-widgets/base",
            "_view_module_version": "2.0.0",
            "_view_name": "LayoutView",
            "align_content": null,
            "align_items": null,
            "align_self": null,
            "border_bottom": null,
            "border_left": null,
            "border_right": null,
            "border_top": null,
            "bottom": null,
            "display": null,
            "flex": null,
            "flex_flow": null,
            "grid_area": null,
            "grid_auto_columns": null,
            "grid_auto_flow": null,
            "grid_auto_rows": null,
            "grid_column": null,
            "grid_gap": null,
            "grid_row": null,
            "grid_template_areas": null,
            "grid_template_columns": null,
            "grid_template_rows": null,
            "height": null,
            "justify_content": null,
            "justify_items": null,
            "left": null,
            "margin": null,
            "max_height": null,
            "max_width": null,
            "min_height": null,
            "min_width": null,
            "object_fit": null,
            "object_position": null,
            "order": null,
            "overflow": null,
            "padding": null,
            "right": null,
            "top": null,
            "visibility": null,
            "width": null
          }
        },
        "232de1d4d2204487b7c259fc08af9408": {
          "model_module": "@jupyter-widgets/base",
          "model_name": "LayoutModel",
          "model_module_version": "2.0.0",
          "state": {
            "_model_module": "@jupyter-widgets/base",
            "_model_module_version": "2.0.0",
            "_model_name": "LayoutModel",
            "_view_count": null,
            "_view_module": "@jupyter-widgets/base",
            "_view_module_version": "2.0.0",
            "_view_name": "LayoutView",
            "align_content": null,
            "align_items": null,
            "align_self": null,
            "border_bottom": null,
            "border_left": null,
            "border_right": null,
            "border_top": null,
            "bottom": null,
            "display": null,
            "flex": null,
            "flex_flow": null,
            "grid_area": null,
            "grid_auto_columns": null,
            "grid_auto_flow": null,
            "grid_auto_rows": null,
            "grid_column": null,
            "grid_gap": null,
            "grid_row": null,
            "grid_template_areas": null,
            "grid_template_columns": null,
            "grid_template_rows": null,
            "height": null,
            "justify_content": null,
            "justify_items": null,
            "left": null,
            "margin": null,
            "max_height": null,
            "max_width": null,
            "min_height": null,
            "min_width": null,
            "object_fit": null,
            "object_position": null,
            "order": null,
            "overflow": null,
            "padding": null,
            "right": null,
            "top": null,
            "visibility": null,
            "width": null
          }
        },
        "a3cc39c5c6384761afc2a261612ac231": {
          "model_module": "@jupyter-widgets/controls",
          "model_name": "HTMLStyleModel",
          "model_module_version": "2.0.0",
          "state": {
            "_model_module": "@jupyter-widgets/controls",
            "_model_module_version": "2.0.0",
            "_model_name": "HTMLStyleModel",
            "_view_count": null,
            "_view_module": "@jupyter-widgets/base",
            "_view_module_version": "2.0.0",
            "_view_name": "StyleView",
            "background": null,
            "description_width": "",
            "font_size": null,
            "text_color": null
          }
        },
        "091b01f8a35146fd830b0569a873d466": {
          "model_module": "@jupyter-widgets/base",
          "model_name": "LayoutModel",
          "model_module_version": "2.0.0",
          "state": {
            "_model_module": "@jupyter-widgets/base",
            "_model_module_version": "2.0.0",
            "_model_name": "LayoutModel",
            "_view_count": null,
            "_view_module": "@jupyter-widgets/base",
            "_view_module_version": "2.0.0",
            "_view_name": "LayoutView",
            "align_content": null,
            "align_items": null,
            "align_self": null,
            "border_bottom": null,
            "border_left": null,
            "border_right": null,
            "border_top": null,
            "bottom": null,
            "display": null,
            "flex": null,
            "flex_flow": null,
            "grid_area": null,
            "grid_auto_columns": null,
            "grid_auto_flow": null,
            "grid_auto_rows": null,
            "grid_column": null,
            "grid_gap": null,
            "grid_row": null,
            "grid_template_areas": null,
            "grid_template_columns": null,
            "grid_template_rows": null,
            "height": null,
            "justify_content": null,
            "justify_items": null,
            "left": null,
            "margin": null,
            "max_height": null,
            "max_width": null,
            "min_height": null,
            "min_width": null,
            "object_fit": null,
            "object_position": null,
            "order": null,
            "overflow": null,
            "padding": null,
            "right": null,
            "top": null,
            "visibility": null,
            "width": null
          }
        },
        "c44f2b6e116f4dc682356b58ae5697a3": {
          "model_module": "@jupyter-widgets/controls",
          "model_name": "ProgressStyleModel",
          "model_module_version": "2.0.0",
          "state": {
            "_model_module": "@jupyter-widgets/controls",
            "_model_module_version": "2.0.0",
            "_model_name": "ProgressStyleModel",
            "_view_count": null,
            "_view_module": "@jupyter-widgets/base",
            "_view_module_version": "2.0.0",
            "_view_name": "StyleView",
            "bar_color": null,
            "description_width": ""
          }
        },
        "cc7269b28f1844389e248d5aeaf78e89": {
          "model_module": "@jupyter-widgets/base",
          "model_name": "LayoutModel",
          "model_module_version": "2.0.0",
          "state": {
            "_model_module": "@jupyter-widgets/base",
            "_model_module_version": "2.0.0",
            "_model_name": "LayoutModel",
            "_view_count": null,
            "_view_module": "@jupyter-widgets/base",
            "_view_module_version": "2.0.0",
            "_view_name": "LayoutView",
            "align_content": null,
            "align_items": null,
            "align_self": null,
            "border_bottom": null,
            "border_left": null,
            "border_right": null,
            "border_top": null,
            "bottom": null,
            "display": null,
            "flex": null,
            "flex_flow": null,
            "grid_area": null,
            "grid_auto_columns": null,
            "grid_auto_flow": null,
            "grid_auto_rows": null,
            "grid_column": null,
            "grid_gap": null,
            "grid_row": null,
            "grid_template_areas": null,
            "grid_template_columns": null,
            "grid_template_rows": null,
            "height": null,
            "justify_content": null,
            "justify_items": null,
            "left": null,
            "margin": null,
            "max_height": null,
            "max_width": null,
            "min_height": null,
            "min_width": null,
            "object_fit": null,
            "object_position": null,
            "order": null,
            "overflow": null,
            "padding": null,
            "right": null,
            "top": null,
            "visibility": null,
            "width": null
          }
        },
        "e708f0775dd74321aaef2d98ba5f0afa": {
          "model_module": "@jupyter-widgets/controls",
          "model_name": "HTMLStyleModel",
          "model_module_version": "2.0.0",
          "state": {
            "_model_module": "@jupyter-widgets/controls",
            "_model_module_version": "2.0.0",
            "_model_name": "HTMLStyleModel",
            "_view_count": null,
            "_view_module": "@jupyter-widgets/base",
            "_view_module_version": "2.0.0",
            "_view_name": "StyleView",
            "background": null,
            "description_width": "",
            "font_size": null,
            "text_color": null
          }
        },
        "d34373ea801042be9f0088128e126c95": {
          "model_module": "@jupyter-widgets/controls",
          "model_name": "HBoxModel",
          "model_module_version": "2.0.0",
          "state": {
            "_dom_classes": [],
            "_model_module": "@jupyter-widgets/controls",
            "_model_module_version": "2.0.0",
            "_model_name": "HBoxModel",
            "_view_count": null,
            "_view_module": "@jupyter-widgets/controls",
            "_view_module_version": "2.0.0",
            "_view_name": "HBoxView",
            "box_style": "",
            "children": [
              "IPY_MODEL_c2642a0f220b49dcb0e252d9c5e20b3e",
              "IPY_MODEL_6594195c77594c4fbcaa3eea0324a00f",
              "IPY_MODEL_56bce758bb1d4ce8a393355e4e19dcd6"
            ],
            "layout": "IPY_MODEL_acff166f0e8345c98ea707b896d40245",
            "tabbable": null,
            "tooltip": null
          }
        },
        "c2642a0f220b49dcb0e252d9c5e20b3e": {
          "model_module": "@jupyter-widgets/controls",
          "model_name": "HTMLModel",
          "model_module_version": "2.0.0",
          "state": {
            "_dom_classes": [],
            "_model_module": "@jupyter-widgets/controls",
            "_model_module_version": "2.0.0",
            "_model_name": "HTMLModel",
            "_view_count": null,
            "_view_module": "@jupyter-widgets/controls",
            "_view_module_version": "2.0.0",
            "_view_name": "HTMLView",
            "description": "",
            "description_allow_html": false,
            "layout": "IPY_MODEL_85cacb41a5214e43b9049d9b550bc84f",
            "placeholder": "​",
            "style": "IPY_MODEL_4668ac5d860645099ecf537ab45a95db",
            "tabbable": null,
            "tooltip": null,
            "value": "Downloading pytorch_model.bin: 100%"
          }
        },
        "6594195c77594c4fbcaa3eea0324a00f": {
          "model_module": "@jupyter-widgets/controls",
          "model_name": "FloatProgressModel",
          "model_module_version": "2.0.0",
          "state": {
            "_dom_classes": [],
            "_model_module": "@jupyter-widgets/controls",
            "_model_module_version": "2.0.0",
            "_model_name": "FloatProgressModel",
            "_view_count": null,
            "_view_module": "@jupyter-widgets/controls",
            "_view_module_version": "2.0.0",
            "_view_name": "ProgressView",
            "bar_style": "success",
            "description": "",
            "description_allow_html": false,
            "layout": "IPY_MODEL_00e868388c2c43dcae43df786a2fd769",
            "max": 2275329241,
            "min": 0,
            "orientation": "horizontal",
            "style": "IPY_MODEL_d936a6490c914359bf86a2767a2dc6bd",
            "tabbable": null,
            "tooltip": null,
            "value": 2275329241
          }
        },
        "56bce758bb1d4ce8a393355e4e19dcd6": {
          "model_module": "@jupyter-widgets/controls",
          "model_name": "HTMLModel",
          "model_module_version": "2.0.0",
          "state": {
            "_dom_classes": [],
            "_model_module": "@jupyter-widgets/controls",
            "_model_module_version": "2.0.0",
            "_model_name": "HTMLModel",
            "_view_count": null,
            "_view_module": "@jupyter-widgets/controls",
            "_view_module_version": "2.0.0",
            "_view_name": "HTMLView",
            "description": "",
            "description_allow_html": false,
            "layout": "IPY_MODEL_5a4dc41bf2e44cb2bc2916867b8811fe",
            "placeholder": "​",
            "style": "IPY_MODEL_4760115946f7460e9efb65f8b8acb582",
            "tabbable": null,
            "tooltip": null,
            "value": " 2.12G/2.12G [00:52&lt;00:00, 43.4MB/s]"
          }
        },
        "acff166f0e8345c98ea707b896d40245": {
          "model_module": "@jupyter-widgets/base",
          "model_name": "LayoutModel",
          "model_module_version": "2.0.0",
          "state": {
            "_model_module": "@jupyter-widgets/base",
            "_model_module_version": "2.0.0",
            "_model_name": "LayoutModel",
            "_view_count": null,
            "_view_module": "@jupyter-widgets/base",
            "_view_module_version": "2.0.0",
            "_view_name": "LayoutView",
            "align_content": null,
            "align_items": null,
            "align_self": null,
            "border_bottom": null,
            "border_left": null,
            "border_right": null,
            "border_top": null,
            "bottom": null,
            "display": null,
            "flex": null,
            "flex_flow": null,
            "grid_area": null,
            "grid_auto_columns": null,
            "grid_auto_flow": null,
            "grid_auto_rows": null,
            "grid_column": null,
            "grid_gap": null,
            "grid_row": null,
            "grid_template_areas": null,
            "grid_template_columns": null,
            "grid_template_rows": null,
            "height": null,
            "justify_content": null,
            "justify_items": null,
            "left": null,
            "margin": null,
            "max_height": null,
            "max_width": null,
            "min_height": null,
            "min_width": null,
            "object_fit": null,
            "object_position": null,
            "order": null,
            "overflow": null,
            "padding": null,
            "right": null,
            "top": null,
            "visibility": null,
            "width": null
          }
        },
        "85cacb41a5214e43b9049d9b550bc84f": {
          "model_module": "@jupyter-widgets/base",
          "model_name": "LayoutModel",
          "model_module_version": "2.0.0",
          "state": {
            "_model_module": "@jupyter-widgets/base",
            "_model_module_version": "2.0.0",
            "_model_name": "LayoutModel",
            "_view_count": null,
            "_view_module": "@jupyter-widgets/base",
            "_view_module_version": "2.0.0",
            "_view_name": "LayoutView",
            "align_content": null,
            "align_items": null,
            "align_self": null,
            "border_bottom": null,
            "border_left": null,
            "border_right": null,
            "border_top": null,
            "bottom": null,
            "display": null,
            "flex": null,
            "flex_flow": null,
            "grid_area": null,
            "grid_auto_columns": null,
            "grid_auto_flow": null,
            "grid_auto_rows": null,
            "grid_column": null,
            "grid_gap": null,
            "grid_row": null,
            "grid_template_areas": null,
            "grid_template_columns": null,
            "grid_template_rows": null,
            "height": null,
            "justify_content": null,
            "justify_items": null,
            "left": null,
            "margin": null,
            "max_height": null,
            "max_width": null,
            "min_height": null,
            "min_width": null,
            "object_fit": null,
            "object_position": null,
            "order": null,
            "overflow": null,
            "padding": null,
            "right": null,
            "top": null,
            "visibility": null,
            "width": null
          }
        },
        "4668ac5d860645099ecf537ab45a95db": {
          "model_module": "@jupyter-widgets/controls",
          "model_name": "HTMLStyleModel",
          "model_module_version": "2.0.0",
          "state": {
            "_model_module": "@jupyter-widgets/controls",
            "_model_module_version": "2.0.0",
            "_model_name": "HTMLStyleModel",
            "_view_count": null,
            "_view_module": "@jupyter-widgets/base",
            "_view_module_version": "2.0.0",
            "_view_name": "StyleView",
            "background": null,
            "description_width": "",
            "font_size": null,
            "text_color": null
          }
        },
        "00e868388c2c43dcae43df786a2fd769": {
          "model_module": "@jupyter-widgets/base",
          "model_name": "LayoutModel",
          "model_module_version": "2.0.0",
          "state": {
            "_model_module": "@jupyter-widgets/base",
            "_model_module_version": "2.0.0",
            "_model_name": "LayoutModel",
            "_view_count": null,
            "_view_module": "@jupyter-widgets/base",
            "_view_module_version": "2.0.0",
            "_view_name": "LayoutView",
            "align_content": null,
            "align_items": null,
            "align_self": null,
            "border_bottom": null,
            "border_left": null,
            "border_right": null,
            "border_top": null,
            "bottom": null,
            "display": null,
            "flex": null,
            "flex_flow": null,
            "grid_area": null,
            "grid_auto_columns": null,
            "grid_auto_flow": null,
            "grid_auto_rows": null,
            "grid_column": null,
            "grid_gap": null,
            "grid_row": null,
            "grid_template_areas": null,
            "grid_template_columns": null,
            "grid_template_rows": null,
            "height": null,
            "justify_content": null,
            "justify_items": null,
            "left": null,
            "margin": null,
            "max_height": null,
            "max_width": null,
            "min_height": null,
            "min_width": null,
            "object_fit": null,
            "object_position": null,
            "order": null,
            "overflow": null,
            "padding": null,
            "right": null,
            "top": null,
            "visibility": null,
            "width": null
          }
        },
        "d936a6490c914359bf86a2767a2dc6bd": {
          "model_module": "@jupyter-widgets/controls",
          "model_name": "ProgressStyleModel",
          "model_module_version": "2.0.0",
          "state": {
            "_model_module": "@jupyter-widgets/controls",
            "_model_module_version": "2.0.0",
            "_model_name": "ProgressStyleModel",
            "_view_count": null,
            "_view_module": "@jupyter-widgets/base",
            "_view_module_version": "2.0.0",
            "_view_name": "StyleView",
            "bar_color": null,
            "description_width": ""
          }
        },
        "5a4dc41bf2e44cb2bc2916867b8811fe": {
          "model_module": "@jupyter-widgets/base",
          "model_name": "LayoutModel",
          "model_module_version": "2.0.0",
          "state": {
            "_model_module": "@jupyter-widgets/base",
            "_model_module_version": "2.0.0",
            "_model_name": "LayoutModel",
            "_view_count": null,
            "_view_module": "@jupyter-widgets/base",
            "_view_module_version": "2.0.0",
            "_view_name": "LayoutView",
            "align_content": null,
            "align_items": null,
            "align_self": null,
            "border_bottom": null,
            "border_left": null,
            "border_right": null,
            "border_top": null,
            "bottom": null,
            "display": null,
            "flex": null,
            "flex_flow": null,
            "grid_area": null,
            "grid_auto_columns": null,
            "grid_auto_flow": null,
            "grid_auto_rows": null,
            "grid_column": null,
            "grid_gap": null,
            "grid_row": null,
            "grid_template_areas": null,
            "grid_template_columns": null,
            "grid_template_rows": null,
            "height": null,
            "justify_content": null,
            "justify_items": null,
            "left": null,
            "margin": null,
            "max_height": null,
            "max_width": null,
            "min_height": null,
            "min_width": null,
            "object_fit": null,
            "object_position": null,
            "order": null,
            "overflow": null,
            "padding": null,
            "right": null,
            "top": null,
            "visibility": null,
            "width": null
          }
        },
        "4760115946f7460e9efb65f8b8acb582": {
          "model_module": "@jupyter-widgets/controls",
          "model_name": "HTMLStyleModel",
          "model_module_version": "2.0.0",
          "state": {
            "_model_module": "@jupyter-widgets/controls",
            "_model_module_version": "2.0.0",
            "_model_name": "HTMLStyleModel",
            "_view_count": null,
            "_view_module": "@jupyter-widgets/base",
            "_view_module_version": "2.0.0",
            "_view_name": "StyleView",
            "background": null,
            "description_width": "",
            "font_size": null,
            "text_color": null
          }
        }
      }
    }
  },
  "nbformat": 4,
  "nbformat_minor": 0
}